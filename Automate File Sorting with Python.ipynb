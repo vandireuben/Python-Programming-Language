{
 "cells": [
  {
   "cell_type": "markdown",
   "id": "4dad77c3",
   "metadata": {},
   "source": [
    "#### Data Analyst: Reuben Yohanna Vandi"
   ]
  },
  {
   "cell_type": "code",
   "execution_count": 30,
   "id": "7bfb97d8",
   "metadata": {},
   "outputs": [],
   "source": [
    "import os, shutil"
   ]
  },
  {
   "cell_type": "code",
   "execution_count": 31,
   "id": "73172428",
   "metadata": {},
   "outputs": [],
   "source": [
    "path = r\"C:/Users/Reuben Yohanna Vandi/Pictures/python/\""
   ]
  },
  {
   "cell_type": "code",
   "execution_count": 32,
   "id": "5c72f103",
   "metadata": {},
   "outputs": [
    {
     "data": {
      "text/plain": [
       "['(1).jpg',\n",
       " '(2).jpg',\n",
       " '(3).jpg',\n",
       " '(4).jpg',\n",
       " '(5).jpg',\n",
       " '(6).jpg',\n",
       " '.paradise_5-wallpaper-1280x800.jpg',\n",
       " '1702550734966.jpg',\n",
       " '1702550734981.jpg',\n",
       " '1702550734991.jpg',\n",
       " '1702550735005.jpg',\n",
       " '1704877793144.jpg',\n",
       " '1704877925365.jpg',\n",
       " '1707546767174.jpg',\n",
       " '1707916989574.jpg',\n",
       " '1728979523771.jpg',\n",
       " '1728979528764.jpg',\n",
       " '1729705864077.jpg',\n",
       " '1729705880375.jpg',\n",
       " '1729705893663.jpg',\n",
       " '1729705967158.jpg',\n",
       " '1729705973859.jpg',\n",
       " '1729705982424.jpg',\n",
       " '1729705998076.jpg',\n",
       " '1729706005818.jpg',\n",
       " '1734775231651.jpg',\n",
       " '1734775231657.jpg',\n",
       " '1735197472307.jpg',\n",
       " '20211111-185853.png',\n",
       " '20220108-233053.png',\n",
       " '2347055780936_status_7fa2cf802dca49c482832ab538ff07ef.jpg',\n",
       " '28e441782b64428c9fa6d33cefc41a1e.jpg',\n",
       " '447795340416_status_887a5768ef234eb08d4b235ffd4b1582.jpg',\n",
       " 'A..jpg',\n",
       " 'b6f78f0e1d9541fe865d973d8ea7f72a.jpg',\n",
       " 'csv folder',\n",
       " 'Documents',\n",
       " 'ebook',\n",
       " 'FB_IMG_16447306258779263.jpg',\n",
       " 'FB_IMG_16809545739257095.jpg',\n",
       " 'FB_IMG_16913096891226002.jpg',\n",
       " 'Healthcare Analytics 101.pdf',\n",
       " 'IMG_20240103_081237.jpg',\n",
       " 'IMG_20240103_081303.jpg',\n",
       " 'InShot_20220417_153125856.jpg',\n",
       " 'InShot_20241216_073903678.jpg',\n",
       " 'InShot_20241216_074115803.jpg',\n",
       " 'I_remember_this_like_it_happened_yesterday,_I_look_forward_to_sharing_moments_like_this_with_you_❤️__🎥_@timmydavies_.mp4',\n",
       " 'List of the most valuable crops and livestocks products.cvs',\n",
       " 'music',\n",
       " 'Onyx Data DataDNA Challenge - December 2024 Entries.pdf',\n",
       " 'picture',\n",
       " 'prmise (1).jpg',\n",
       " 'prmise (1.jpg',\n",
       " 'prmise (2).jpg',\n",
       " 'prmise (3).jpg',\n",
       " 'Python Code Snippets for Interviews -1.pdf',\n",
       " 'Python for Data Analysis.docx',\n",
       " 'python notes.pdf',\n",
       " 'RAHAMA-Kaestrings.mp3',\n",
       " 'video']"
      ]
     },
     "execution_count": 32,
     "metadata": {},
     "output_type": "execute_result"
    }
   ],
   "source": [
    "os.listdir(path)"
   ]
  },
  {
   "cell_type": "code",
   "execution_count": 36,
   "id": "9a23f3c3",
   "metadata": {},
   "outputs": [],
   "source": [
    "file = os.listdir(path)"
   ]
  },
  {
   "cell_type": "code",
   "execution_count": 37,
   "id": "51f1b71c",
   "metadata": {},
   "outputs": [],
   "source": [
    "folders = ['music', 'picture', 'csv folder', 'video', 'ebook', 'Documents']\n",
    "\n",
    "for loop in range(0,6):\n",
    "    if not os.path.exists(path + folders[loop]):\n",
    "        os.makedirs((path + folders[loop]))"
   ]
  },
  {
   "cell_type": "code",
   "execution_count": 38,
   "id": "acc05d9d",
   "metadata": {},
   "outputs": [],
   "source": [
    "for doc in file:\n",
    "    if \".jpg\" in doc and not os.path.exists(path + \"picture/\" + doc):\n",
    "        shutil.move(path + doc, path + \"picture/\" + doc)\n",
    "    elif \".png\" in doc and not os.path.exists(path + \"picture/\" + doc):\n",
    "        shutil.move(path + doc, path + \"picture/\" + doc)\n",
    "    elif \".mp3\" in doc and not os.path.exists(path + \"music/\" + doc):\n",
    "        shutil.move(path + doc, path + \"music/\" + doc)\n",
    "    elif \".cvs\" in doc and not os.path.exists(path + \"csv folder/\" + doc):\n",
    "        shutil.move(path + doc, path + \"csv folder/\" + doc)\n",
    "    elif \".mp4\" in doc and not os.path.exists(path + \"video/\" + doc):\n",
    "        shutil.move(path + doc, path + \"video/\" + doc)\n",
    "    elif \".pdf\" in doc and not os.path.exists(path + \"ebook/\" + doc):\n",
    "        shutil.move(path + doc, path + \"ebook/\" + doc)\n",
    "    elif \".docx\" in doc and not os.path.exists(path + \"Documents/\" + doc):\n",
    "        shutil.move(path + doc, path + \"Documents/\" + doc)"
   ]
  }
 ],
 "metadata": {
  "kernelspec": {
   "display_name": "Python 3 (ipykernel)",
   "language": "python",
   "name": "python3"
  },
  "language_info": {
   "codemirror_mode": {
    "name": "ipython",
    "version": 3
   },
   "file_extension": ".py",
   "mimetype": "text/x-python",
   "name": "python",
   "nbconvert_exporter": "python",
   "pygments_lexer": "ipython3",
   "version": "3.11.5"
  }
 },
 "nbformat": 4,
 "nbformat_minor": 5
}
