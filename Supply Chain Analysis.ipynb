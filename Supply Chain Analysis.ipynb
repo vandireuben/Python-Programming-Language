{
 "cells": [
  {
   "cell_type": "markdown",
   "id": "4690fb44",
   "metadata": {},
   "source": [
    "#### Data Analyst: Reuben Yohanna Vandi\n",
    "\n",
    "# SUPPLY CHAIN ANALYSIS\n",
    "The supply Chain is the network of production and logistics involved in producing and delivering goods to customers. And Supply Chain Analysis means analyzing various components of a Supply Chain to understand how to improve the effectiveness of the Supply Chain to create more value for customers.\n",
    "Supply chain analysis is the process of evaluating every stage of a supply chain starting from the time the business acquires raw materials or supplies from its suppliers to the delivery of final products to the customers.\n",
    "\n",
    "## Problem Statement\n",
    "Our company's supply chain is facing significant challenges, resulting in inefficient inventory management, high inspection failure rates, and inconsistent product availability. With unclear visibility into our inventory turnover, lead times, and quality control processes, we are struggling to meet customer demand, reduce costs, and increase profitability. How can we optimize our supply chain to improve product availability, reduce inspection failures, and enhance overall efficiency?\n",
    "\n",
    "## Objectives\n",
    "1. Which supplier has the least lead time?\n",
    "2. What is the defect rate across product types (skincare, haircare, cosmetics)?\n",
    "3. What is the average shipping time across shipping carriers?\n",
    "4. What is the inventory turnover ratio for each product category?\n",
    "5. What is the total shipping cost and average shipping cost across all shipping carriers and transportation modes?\n",
    "6. What is the revenue allocation towards total expenses (manufacturing, costs, and shipping) and the net profit margins for each product category?\n",
    "7. What is the number of products sold and the average price of each product type?\n",
    "8. How do manufacturing costs compare to revenue across product types?\n",
    "9. How does production volume compare to order quantity by product type?\n",
    "10. How does production volume affect inspection results analysis by product type?\n",
    "11. How does average shipping cost compare to shipping time by location?\n",
    "12. How does average shipping time compare to average defect rate by transportation mode?\n",
    "13. How does average shipping cost compare to average shipping time by shipping carrier?\n",
    "14. How does average shipping cost vary by transportation mode and route?\n",
    "\n",
    "\n",
    "\n",
    "## Methodology\n",
    "Before diving into the analysis, we made sure the data is clean by:\n",
    "\n",
    "* Removing duplicate records.\n",
    "* Checking and handling missing values.\n",
    "* Verifying data types for each column.\n",
    "\n",
    "\n",
    "## Tools & Technologies\n",
    "The use of Python Libraries such as:\n",
    "* Numpy\n",
    "* Pandas\n",
    "* Matplotlib\n",
    "* collections"
   ]
  },
  {
   "cell_type": "markdown",
   "id": "14a29e95",
   "metadata": {},
   "source": [
    "### Importing Python Libraries"
   ]
  },
  {
   "cell_type": "code",
   "execution_count": 1,
   "id": "6d9dfe84",
   "metadata": {},
   "outputs": [],
   "source": [
    "import pandas as pd\n",
    "import numpy as np\n",
    "from collections import Counter\n",
    "import matplotlib.pyplot as plt"
   ]
  },
  {
   "cell_type": "markdown",
   "id": "35b1bb39",
   "metadata": {},
   "source": [
    "### Loading Dataset"
   ]
  },
  {
   "cell_type": "code",
   "execution_count": 2,
   "id": "cbbce43e",
   "metadata": {},
   "outputs": [
    {
     "data": {
      "text/html": [
       "<div>\n",
       "<style scoped>\n",
       "    .dataframe tbody tr th:only-of-type {\n",
       "        vertical-align: middle;\n",
       "    }\n",
       "\n",
       "    .dataframe tbody tr th {\n",
       "        vertical-align: top;\n",
       "    }\n",
       "\n",
       "    .dataframe thead th {\n",
       "        text-align: right;\n",
       "    }\n",
       "</style>\n",
       "<table border=\"1\" class=\"dataframe\">\n",
       "  <thead>\n",
       "    <tr style=\"text-align: right;\">\n",
       "      <th></th>\n",
       "      <th>Product type</th>\n",
       "      <th>SKU</th>\n",
       "      <th>Price</th>\n",
       "      <th>Availability</th>\n",
       "      <th>Number of products sold</th>\n",
       "      <th>Revenue generated</th>\n",
       "      <th>Customer demographics</th>\n",
       "      <th>Stock levels</th>\n",
       "      <th>Lead times</th>\n",
       "      <th>Order quantities</th>\n",
       "      <th>Shipping times</th>\n",
       "      <th>Shipping carriers</th>\n",
       "      <th>Shipping costs</th>\n",
       "      <th>Supplier name</th>\n",
       "      <th>Location</th>\n",
       "      <th>Lead time</th>\n",
       "      <th>Production volumes</th>\n",
       "      <th>Manufacturing lead time</th>\n",
       "      <th>Manufacturing costs</th>\n",
       "      <th>Inspection results</th>\n",
       "      <th>Defect rates</th>\n",
       "      <th>Transportation modes</th>\n",
       "      <th>Routes</th>\n",
       "      <th>Costs</th>\n",
       "    </tr>\n",
       "  </thead>\n",
       "  <tbody>\n",
       "    <tr>\n",
       "      <th>0</th>\n",
       "      <td>haircare</td>\n",
       "      <td>SKU0</td>\n",
       "      <td>69.808006</td>\n",
       "      <td>55</td>\n",
       "      <td>802</td>\n",
       "      <td>8661.996792</td>\n",
       "      <td>Non-binary</td>\n",
       "      <td>58</td>\n",
       "      <td>7</td>\n",
       "      <td>96</td>\n",
       "      <td>4</td>\n",
       "      <td>Carrier B</td>\n",
       "      <td>2.956572</td>\n",
       "      <td>Supplier 3</td>\n",
       "      <td>Mumbai</td>\n",
       "      <td>29</td>\n",
       "      <td>215</td>\n",
       "      <td>29</td>\n",
       "      <td>46.279879</td>\n",
       "      <td>Pending</td>\n",
       "      <td>0.226410</td>\n",
       "      <td>Road</td>\n",
       "      <td>Route B</td>\n",
       "      <td>187.752075</td>\n",
       "    </tr>\n",
       "    <tr>\n",
       "      <th>1</th>\n",
       "      <td>skincare</td>\n",
       "      <td>SKU1</td>\n",
       "      <td>14.843523</td>\n",
       "      <td>95</td>\n",
       "      <td>736</td>\n",
       "      <td>7460.900065</td>\n",
       "      <td>Female</td>\n",
       "      <td>53</td>\n",
       "      <td>30</td>\n",
       "      <td>37</td>\n",
       "      <td>2</td>\n",
       "      <td>Carrier A</td>\n",
       "      <td>9.716575</td>\n",
       "      <td>Supplier 3</td>\n",
       "      <td>Mumbai</td>\n",
       "      <td>23</td>\n",
       "      <td>517</td>\n",
       "      <td>30</td>\n",
       "      <td>33.616769</td>\n",
       "      <td>Pending</td>\n",
       "      <td>4.854068</td>\n",
       "      <td>Road</td>\n",
       "      <td>Route B</td>\n",
       "      <td>503.065579</td>\n",
       "    </tr>\n",
       "    <tr>\n",
       "      <th>2</th>\n",
       "      <td>haircare</td>\n",
       "      <td>SKU2</td>\n",
       "      <td>11.319683</td>\n",
       "      <td>34</td>\n",
       "      <td>8</td>\n",
       "      <td>9577.749626</td>\n",
       "      <td>Unknown</td>\n",
       "      <td>1</td>\n",
       "      <td>10</td>\n",
       "      <td>88</td>\n",
       "      <td>2</td>\n",
       "      <td>Carrier B</td>\n",
       "      <td>8.054479</td>\n",
       "      <td>Supplier 1</td>\n",
       "      <td>Mumbai</td>\n",
       "      <td>12</td>\n",
       "      <td>971</td>\n",
       "      <td>27</td>\n",
       "      <td>30.688019</td>\n",
       "      <td>Pending</td>\n",
       "      <td>4.580593</td>\n",
       "      <td>Air</td>\n",
       "      <td>Route C</td>\n",
       "      <td>141.920282</td>\n",
       "    </tr>\n",
       "    <tr>\n",
       "      <th>3</th>\n",
       "      <td>skincare</td>\n",
       "      <td>SKU3</td>\n",
       "      <td>61.163343</td>\n",
       "      <td>68</td>\n",
       "      <td>83</td>\n",
       "      <td>7766.836426</td>\n",
       "      <td>Non-binary</td>\n",
       "      <td>23</td>\n",
       "      <td>13</td>\n",
       "      <td>59</td>\n",
       "      <td>6</td>\n",
       "      <td>Carrier C</td>\n",
       "      <td>1.729569</td>\n",
       "      <td>Supplier 5</td>\n",
       "      <td>Kolkata</td>\n",
       "      <td>24</td>\n",
       "      <td>937</td>\n",
       "      <td>18</td>\n",
       "      <td>35.624741</td>\n",
       "      <td>Fail</td>\n",
       "      <td>4.746649</td>\n",
       "      <td>Rail</td>\n",
       "      <td>Route A</td>\n",
       "      <td>254.776159</td>\n",
       "    </tr>\n",
       "    <tr>\n",
       "      <th>4</th>\n",
       "      <td>skincare</td>\n",
       "      <td>SKU4</td>\n",
       "      <td>4.805496</td>\n",
       "      <td>26</td>\n",
       "      <td>871</td>\n",
       "      <td>2686.505152</td>\n",
       "      <td>Non-binary</td>\n",
       "      <td>5</td>\n",
       "      <td>3</td>\n",
       "      <td>56</td>\n",
       "      <td>8</td>\n",
       "      <td>Carrier A</td>\n",
       "      <td>3.890548</td>\n",
       "      <td>Supplier 1</td>\n",
       "      <td>Delhi</td>\n",
       "      <td>5</td>\n",
       "      <td>414</td>\n",
       "      <td>3</td>\n",
       "      <td>92.065161</td>\n",
       "      <td>Fail</td>\n",
       "      <td>3.145580</td>\n",
       "      <td>Air</td>\n",
       "      <td>Route A</td>\n",
       "      <td>923.440632</td>\n",
       "    </tr>\n",
       "    <tr>\n",
       "      <th>...</th>\n",
       "      <td>...</td>\n",
       "      <td>...</td>\n",
       "      <td>...</td>\n",
       "      <td>...</td>\n",
       "      <td>...</td>\n",
       "      <td>...</td>\n",
       "      <td>...</td>\n",
       "      <td>...</td>\n",
       "      <td>...</td>\n",
       "      <td>...</td>\n",
       "      <td>...</td>\n",
       "      <td>...</td>\n",
       "      <td>...</td>\n",
       "      <td>...</td>\n",
       "      <td>...</td>\n",
       "      <td>...</td>\n",
       "      <td>...</td>\n",
       "      <td>...</td>\n",
       "      <td>...</td>\n",
       "      <td>...</td>\n",
       "      <td>...</td>\n",
       "      <td>...</td>\n",
       "      <td>...</td>\n",
       "      <td>...</td>\n",
       "    </tr>\n",
       "    <tr>\n",
       "      <th>95</th>\n",
       "      <td>haircare</td>\n",
       "      <td>SKU95</td>\n",
       "      <td>77.903927</td>\n",
       "      <td>65</td>\n",
       "      <td>672</td>\n",
       "      <td>7386.363944</td>\n",
       "      <td>Unknown</td>\n",
       "      <td>15</td>\n",
       "      <td>14</td>\n",
       "      <td>26</td>\n",
       "      <td>9</td>\n",
       "      <td>Carrier B</td>\n",
       "      <td>8.630339</td>\n",
       "      <td>Supplier 4</td>\n",
       "      <td>Mumbai</td>\n",
       "      <td>18</td>\n",
       "      <td>450</td>\n",
       "      <td>26</td>\n",
       "      <td>58.890686</td>\n",
       "      <td>Pending</td>\n",
       "      <td>1.210882</td>\n",
       "      <td>Air</td>\n",
       "      <td>Route A</td>\n",
       "      <td>778.864241</td>\n",
       "    </tr>\n",
       "    <tr>\n",
       "      <th>96</th>\n",
       "      <td>cosmetics</td>\n",
       "      <td>SKU96</td>\n",
       "      <td>24.423131</td>\n",
       "      <td>29</td>\n",
       "      <td>324</td>\n",
       "      <td>7698.424766</td>\n",
       "      <td>Non-binary</td>\n",
       "      <td>67</td>\n",
       "      <td>2</td>\n",
       "      <td>32</td>\n",
       "      <td>3</td>\n",
       "      <td>Carrier C</td>\n",
       "      <td>5.352878</td>\n",
       "      <td>Supplier 3</td>\n",
       "      <td>Mumbai</td>\n",
       "      <td>28</td>\n",
       "      <td>648</td>\n",
       "      <td>28</td>\n",
       "      <td>17.803756</td>\n",
       "      <td>Pending</td>\n",
       "      <td>3.872048</td>\n",
       "      <td>Road</td>\n",
       "      <td>Route A</td>\n",
       "      <td>188.742141</td>\n",
       "    </tr>\n",
       "    <tr>\n",
       "      <th>97</th>\n",
       "      <td>haircare</td>\n",
       "      <td>SKU97</td>\n",
       "      <td>3.526111</td>\n",
       "      <td>56</td>\n",
       "      <td>62</td>\n",
       "      <td>4370.916580</td>\n",
       "      <td>Male</td>\n",
       "      <td>46</td>\n",
       "      <td>19</td>\n",
       "      <td>4</td>\n",
       "      <td>9</td>\n",
       "      <td>Carrier A</td>\n",
       "      <td>7.904846</td>\n",
       "      <td>Supplier 4</td>\n",
       "      <td>Mumbai</td>\n",
       "      <td>10</td>\n",
       "      <td>535</td>\n",
       "      <td>13</td>\n",
       "      <td>65.765156</td>\n",
       "      <td>Fail</td>\n",
       "      <td>3.376238</td>\n",
       "      <td>Road</td>\n",
       "      <td>Route A</td>\n",
       "      <td>540.132423</td>\n",
       "    </tr>\n",
       "    <tr>\n",
       "      <th>98</th>\n",
       "      <td>skincare</td>\n",
       "      <td>SKU98</td>\n",
       "      <td>19.754605</td>\n",
       "      <td>43</td>\n",
       "      <td>913</td>\n",
       "      <td>8525.952560</td>\n",
       "      <td>Female</td>\n",
       "      <td>53</td>\n",
       "      <td>1</td>\n",
       "      <td>27</td>\n",
       "      <td>7</td>\n",
       "      <td>Carrier B</td>\n",
       "      <td>1.409801</td>\n",
       "      <td>Supplier 5</td>\n",
       "      <td>Chennai</td>\n",
       "      <td>28</td>\n",
       "      <td>581</td>\n",
       "      <td>9</td>\n",
       "      <td>5.604691</td>\n",
       "      <td>Pending</td>\n",
       "      <td>2.908122</td>\n",
       "      <td>Rail</td>\n",
       "      <td>Route A</td>\n",
       "      <td>882.198864</td>\n",
       "    </tr>\n",
       "    <tr>\n",
       "      <th>99</th>\n",
       "      <td>haircare</td>\n",
       "      <td>SKU99</td>\n",
       "      <td>68.517833</td>\n",
       "      <td>17</td>\n",
       "      <td>627</td>\n",
       "      <td>9185.185829</td>\n",
       "      <td>Unknown</td>\n",
       "      <td>55</td>\n",
       "      <td>8</td>\n",
       "      <td>59</td>\n",
       "      <td>6</td>\n",
       "      <td>Carrier B</td>\n",
       "      <td>1.311024</td>\n",
       "      <td>Supplier 2</td>\n",
       "      <td>Chennai</td>\n",
       "      <td>29</td>\n",
       "      <td>921</td>\n",
       "      <td>2</td>\n",
       "      <td>38.072899</td>\n",
       "      <td>Fail</td>\n",
       "      <td>0.346027</td>\n",
       "      <td>Rail</td>\n",
       "      <td>Route B</td>\n",
       "      <td>210.743009</td>\n",
       "    </tr>\n",
       "  </tbody>\n",
       "</table>\n",
       "<p>100 rows × 24 columns</p>\n",
       "</div>"
      ],
      "text/plain": [
       "   Product type    SKU      Price  Availability  Number of products sold  \\\n",
       "0      haircare   SKU0  69.808006            55                      802   \n",
       "1      skincare   SKU1  14.843523            95                      736   \n",
       "2      haircare   SKU2  11.319683            34                        8   \n",
       "3      skincare   SKU3  61.163343            68                       83   \n",
       "4      skincare   SKU4   4.805496            26                      871   \n",
       "..          ...    ...        ...           ...                      ...   \n",
       "95     haircare  SKU95  77.903927            65                      672   \n",
       "96    cosmetics  SKU96  24.423131            29                      324   \n",
       "97     haircare  SKU97   3.526111            56                       62   \n",
       "98     skincare  SKU98  19.754605            43                      913   \n",
       "99     haircare  SKU99  68.517833            17                      627   \n",
       "\n",
       "    Revenue generated Customer demographics  Stock levels  Lead times  \\\n",
       "0         8661.996792            Non-binary            58           7   \n",
       "1         7460.900065                Female            53          30   \n",
       "2         9577.749626               Unknown             1          10   \n",
       "3         7766.836426            Non-binary            23          13   \n",
       "4         2686.505152            Non-binary             5           3   \n",
       "..                ...                   ...           ...         ...   \n",
       "95        7386.363944               Unknown            15          14   \n",
       "96        7698.424766            Non-binary            67           2   \n",
       "97        4370.916580                  Male            46          19   \n",
       "98        8525.952560                Female            53           1   \n",
       "99        9185.185829               Unknown            55           8   \n",
       "\n",
       "    Order quantities  Shipping times Shipping carriers  Shipping costs  \\\n",
       "0                 96               4         Carrier B        2.956572   \n",
       "1                 37               2         Carrier A        9.716575   \n",
       "2                 88               2         Carrier B        8.054479   \n",
       "3                 59               6         Carrier C        1.729569   \n",
       "4                 56               8         Carrier A        3.890548   \n",
       "..               ...             ...               ...             ...   \n",
       "95                26               9         Carrier B        8.630339   \n",
       "96                32               3         Carrier C        5.352878   \n",
       "97                 4               9         Carrier A        7.904846   \n",
       "98                27               7         Carrier B        1.409801   \n",
       "99                59               6         Carrier B        1.311024   \n",
       "\n",
       "   Supplier name Location  Lead time  Production volumes  \\\n",
       "0     Supplier 3   Mumbai         29                 215   \n",
       "1     Supplier 3   Mumbai         23                 517   \n",
       "2     Supplier 1   Mumbai         12                 971   \n",
       "3     Supplier 5  Kolkata         24                 937   \n",
       "4     Supplier 1    Delhi          5                 414   \n",
       "..           ...      ...        ...                 ...   \n",
       "95    Supplier 4   Mumbai         18                 450   \n",
       "96    Supplier 3   Mumbai         28                 648   \n",
       "97    Supplier 4   Mumbai         10                 535   \n",
       "98    Supplier 5  Chennai         28                 581   \n",
       "99    Supplier 2  Chennai         29                 921   \n",
       "\n",
       "    Manufacturing lead time  Manufacturing costs Inspection results  \\\n",
       "0                        29            46.279879            Pending   \n",
       "1                        30            33.616769            Pending   \n",
       "2                        27            30.688019            Pending   \n",
       "3                        18            35.624741               Fail   \n",
       "4                         3            92.065161               Fail   \n",
       "..                      ...                  ...                ...   \n",
       "95                       26            58.890686            Pending   \n",
       "96                       28            17.803756            Pending   \n",
       "97                       13            65.765156               Fail   \n",
       "98                        9             5.604691            Pending   \n",
       "99                        2            38.072899               Fail   \n",
       "\n",
       "    Defect rates Transportation modes   Routes       Costs  \n",
       "0       0.226410                 Road  Route B  187.752075  \n",
       "1       4.854068                 Road  Route B  503.065579  \n",
       "2       4.580593                  Air  Route C  141.920282  \n",
       "3       4.746649                 Rail  Route A  254.776159  \n",
       "4       3.145580                  Air  Route A  923.440632  \n",
       "..           ...                  ...      ...         ...  \n",
       "95      1.210882                  Air  Route A  778.864241  \n",
       "96      3.872048                 Road  Route A  188.742141  \n",
       "97      3.376238                 Road  Route A  540.132423  \n",
       "98      2.908122                 Rail  Route A  882.198864  \n",
       "99      0.346027                 Rail  Route B  210.743009  \n",
       "\n",
       "[100 rows x 24 columns]"
      ]
     },
     "execution_count": 2,
     "metadata": {},
     "output_type": "execute_result"
    }
   ],
   "source": [
    "df = pd.read_csv(r\"C:\\Users\\Reuben Yohanna Vandi\\Documents\\PORTFOLIO\\Supply Chain\\Onyx Data - DataDNA Dataset Challenge - Supply Chain  Dataset - November 2024 - Copy.csv\")\n",
    "#pd.set_option('display.max.rows', 101) \n",
    "pd.set_option('display.max.columns', 25) \n",
    "df"
   ]
  },
  {
   "cell_type": "markdown",
   "id": "24907118",
   "metadata": {},
   "source": [
    "### Data Cleaning"
   ]
  },
  {
   "cell_type": "markdown",
   "id": "d04bde4d",
   "metadata": {},
   "source": [
    "#### * Removal of Duplicate rows"
   ]
  },
  {
   "cell_type": "code",
   "execution_count": 3,
   "id": "3be9e842",
   "metadata": {},
   "outputs": [
    {
     "data": {
      "text/plain": [
       "0     False\n",
       "1     False\n",
       "2     False\n",
       "3     False\n",
       "4     False\n",
       "      ...  \n",
       "95    False\n",
       "96    False\n",
       "97    False\n",
       "98    False\n",
       "99    False\n",
       "Length: 100, dtype: bool"
      ]
     },
     "execution_count": 3,
     "metadata": {},
     "output_type": "execute_result"
    }
   ],
   "source": [
    "#Confirming if dataset has duplicate values\n",
    "df.duplicated()"
   ]
  },
  {
   "cell_type": "markdown",
   "id": "1a412aa4",
   "metadata": {},
   "source": [
    "#### * Count of blanks (Missing Values)"
   ]
  },
  {
   "cell_type": "code",
   "execution_count": 4,
   "id": "4e7fb898",
   "metadata": {},
   "outputs": [
    {
     "data": {
      "text/plain": [
       "Product type               0\n",
       "SKU                        0\n",
       "Price                      0\n",
       "Availability               0\n",
       "Number of products sold    0\n",
       "Revenue generated          0\n",
       "Customer demographics      0\n",
       "Stock levels               0\n",
       "Lead times                 0\n",
       "Order quantities           0\n",
       "Shipping times             0\n",
       "Shipping carriers          0\n",
       "Shipping costs             0\n",
       "Supplier name              0\n",
       "Location                   0\n",
       "Lead time                  0\n",
       "Production volumes         0\n",
       "Manufacturing lead time    0\n",
       "Manufacturing costs        0\n",
       "Inspection results         0\n",
       "Defect rates               0\n",
       "Transportation modes       0\n",
       "Routes                     0\n",
       "Costs                      0\n",
       "dtype: int64"
      ]
     },
     "execution_count": 4,
     "metadata": {},
     "output_type": "execute_result"
    }
   ],
   "source": [
    "#Confirming the presence of any null values\n",
    "df.isnull().sum()"
   ]
  },
  {
   "cell_type": "markdown",
   "id": "776c1dd1",
   "metadata": {},
   "source": [
    "#### * Verifying data types for each column"
   ]
  },
  {
   "cell_type": "code",
   "execution_count": 5,
   "id": "cdb5858f",
   "metadata": {},
   "outputs": [
    {
     "name": "stdout",
     "output_type": "stream",
     "text": [
      "<class 'pandas.core.frame.DataFrame'>\n",
      "RangeIndex: 100 entries, 0 to 99\n",
      "Data columns (total 24 columns):\n",
      " #   Column                   Non-Null Count  Dtype  \n",
      "---  ------                   --------------  -----  \n",
      " 0   Product type             100 non-null    object \n",
      " 1   SKU                      100 non-null    object \n",
      " 2   Price                    100 non-null    float64\n",
      " 3   Availability             100 non-null    int64  \n",
      " 4   Number of products sold  100 non-null    int64  \n",
      " 5   Revenue generated        100 non-null    float64\n",
      " 6   Customer demographics    100 non-null    object \n",
      " 7   Stock levels             100 non-null    int64  \n",
      " 8   Lead times               100 non-null    int64  \n",
      " 9   Order quantities         100 non-null    int64  \n",
      " 10  Shipping times           100 non-null    int64  \n",
      " 11  Shipping carriers        100 non-null    object \n",
      " 12  Shipping costs           100 non-null    float64\n",
      " 13  Supplier name            100 non-null    object \n",
      " 14  Location                 100 non-null    object \n",
      " 15  Lead time                100 non-null    int64  \n",
      " 16  Production volumes       100 non-null    int64  \n",
      " 17  Manufacturing lead time  100 non-null    int64  \n",
      " 18  Manufacturing costs      100 non-null    float64\n",
      " 19  Inspection results       100 non-null    object \n",
      " 20  Defect rates             100 non-null    float64\n",
      " 21  Transportation modes     100 non-null    object \n",
      " 22  Routes                   100 non-null    object \n",
      " 23  Costs                    100 non-null    float64\n",
      "dtypes: float64(6), int64(9), object(9)\n",
      "memory usage: 18.9+ KB\n"
     ]
    }
   ],
   "source": [
    "#Familarizing with the data type of each column\n",
    "df.info()"
   ]
  },
  {
   "cell_type": "markdown",
   "id": "01cdf27f",
   "metadata": {},
   "source": [
    "### Exploratory Data Analysis [EDA]"
   ]
  },
  {
   "cell_type": "markdown",
   "id": "92bc12ef",
   "metadata": {},
   "source": [
    "#### Transaction Count"
   ]
  },
  {
   "cell_type": "code",
   "execution_count": 6,
   "id": "33375e0d",
   "metadata": {},
   "outputs": [
    {
     "data": {
      "text/plain": [
       "100"
      ]
     },
     "execution_count": 6,
     "metadata": {},
     "output_type": "execute_result"
    }
   ],
   "source": [
    "df['SKU'].count()"
   ]
  },
  {
   "cell_type": "markdown",
   "id": "aa68da8f",
   "metadata": {},
   "source": [
    "Total Supply Chain Transactions: 100"
   ]
  },
  {
   "cell_type": "markdown",
   "id": "9f727f05",
   "metadata": {},
   "source": [
    "#### Total Order"
   ]
  },
  {
   "cell_type": "code",
   "execution_count": 7,
   "id": "8f588ee9",
   "metadata": {},
   "outputs": [
    {
     "data": {
      "text/plain": [
       "4922"
      ]
     },
     "execution_count": 7,
     "metadata": {},
     "output_type": "execute_result"
    }
   ],
   "source": [
    "df['Order quantities'].sum()"
   ]
  },
  {
   "cell_type": "markdown",
   "id": "ccbbb6b7",
   "metadata": {},
   "source": [
    "Total Order that was placed: 4,922"
   ]
  },
  {
   "cell_type": "markdown",
   "id": "1a27aa11",
   "metadata": {},
   "source": [
    "#### List of Product Type"
   ]
  },
  {
   "cell_type": "code",
   "execution_count": 8,
   "id": "a0b13de2",
   "metadata": {},
   "outputs": [
    {
     "data": {
      "text/plain": [
       "array(['haircare', 'skincare', 'cosmetics'], dtype=object)"
      ]
     },
     "execution_count": 8,
     "metadata": {},
     "output_type": "execute_result"
    }
   ],
   "source": [
    "df['Product type'].unique()"
   ]
  },
  {
   "cell_type": "markdown",
   "id": "51a00d86",
   "metadata": {},
   "source": [
    "Product Types: Haircare, Skincare, & Cosmetics."
   ]
  },
  {
   "cell_type": "markdown",
   "id": "c92a304e",
   "metadata": {},
   "source": [
    "#### Average Price ($) of Sold Item"
   ]
  },
  {
   "cell_type": "code",
   "execution_count": 9,
   "id": "b1dd59d6",
   "metadata": {},
   "outputs": [
    {
     "data": {
      "text/plain": [
       "49.46246134491"
      ]
     },
     "execution_count": 9,
     "metadata": {},
     "output_type": "execute_result"
    }
   ],
   "source": [
    "df['Price'].mean()"
   ]
  },
  {
   "cell_type": "markdown",
   "id": "53df7e2b",
   "metadata": {},
   "source": [
    "Overall Average Price of Products Sold: $50"
   ]
  },
  {
   "cell_type": "code",
   "execution_count": 10,
   "id": "3f88c10b",
   "metadata": {},
   "outputs": [
    {
     "data": {
      "text/plain": [
       "Product type\n",
       "cosmetics    57.361058\n",
       "skincare     47.259329\n",
       "haircare     46.014279\n",
       "Name: Price, dtype: float64"
      ]
     },
     "execution_count": 10,
     "metadata": {},
     "output_type": "execute_result"
    }
   ],
   "source": [
    "df.groupby('Product type')['Price'].mean().sort_values(ascending=False)"
   ]
  },
  {
   "cell_type": "markdown",
   "id": "45629452",
   "metadata": {},
   "source": [
    "Average Selling Price of each Product type: \n",
    "* Cosmetics = 57 Dollar\n",
    "* Haircare = 46 Dollar\n",
    "* Skincare = 47 Dollar"
   ]
  },
  {
   "cell_type": "markdown",
   "id": "58a692b0",
   "metadata": {},
   "source": [
    "#### List of Locations"
   ]
  },
  {
   "cell_type": "code",
   "execution_count": 11,
   "id": "f8b01c89",
   "metadata": {},
   "outputs": [
    {
     "data": {
      "text/plain": [
       "array(['Mumbai', 'Kolkata', 'Delhi', 'Bangalore', 'Chennai'], dtype=object)"
      ]
     },
     "execution_count": 11,
     "metadata": {},
     "output_type": "execute_result"
    }
   ],
   "source": [
    "df['Location'].unique()"
   ]
  },
  {
   "cell_type": "markdown",
   "id": "3d978d94",
   "metadata": {},
   "source": [
    "Supply Chain Locations include: Mumbai, Kolkata, Delhi, Bangalore, and Chennai."
   ]
  },
  {
   "cell_type": "markdown",
   "id": "2f27d043",
   "metadata": {},
   "source": [
    "#### List of Supplier"
   ]
  },
  {
   "cell_type": "code",
   "execution_count": 12,
   "id": "1f4087e5",
   "metadata": {},
   "outputs": [
    {
     "data": {
      "text/plain": [
       "array(['Supplier 3', 'Supplier 1', 'Supplier 5', 'Supplier 4',\n",
       "       'Supplier 2'], dtype=object)"
      ]
     },
     "execution_count": 12,
     "metadata": {},
     "output_type": "execute_result"
    }
   ],
   "source": [
    "df['Supplier name'].unique()"
   ]
  },
  {
   "cell_type": "markdown",
   "id": "744ac540",
   "metadata": {},
   "source": [
    "The company's supply chain involves the following suppliers of product raw materials and components: Supplier 1, Supplier 2, Supplier 3, Supplier 4, and Supplier 5."
   ]
  },
  {
   "cell_type": "markdown",
   "id": "94f7cfa1",
   "metadata": {},
   "source": [
    "#### Supply Chain Mode of Transportation"
   ]
  },
  {
   "cell_type": "code",
   "execution_count": 13,
   "id": "1f199827",
   "metadata": {},
   "outputs": [
    {
     "data": {
      "text/plain": [
       "array(['Road', 'Air', 'Rail', 'Sea'], dtype=object)"
      ]
     },
     "execution_count": 13,
     "metadata": {},
     "output_type": "execute_result"
    }
   ],
   "source": [
    "df['Transportation modes'].unique()"
   ]
  },
  {
   "cell_type": "markdown",
   "id": "5216af50",
   "metadata": {},
   "source": [
    "Supply Chain Transportation Modes: Road, Air, Rail, & Sea."
   ]
  },
  {
   "cell_type": "markdown",
   "id": "4555304c",
   "metadata": {},
   "source": [
    "#### List of Shipping Carriers"
   ]
  },
  {
   "cell_type": "code",
   "execution_count": 14,
   "id": "ba4f0152",
   "metadata": {},
   "outputs": [
    {
     "data": {
      "text/plain": [
       "array(['Carrier B', 'Carrier A', 'Carrier C'], dtype=object)"
      ]
     },
     "execution_count": 14,
     "metadata": {},
     "output_type": "execute_result"
    }
   ],
   "source": [
    "df['Shipping carriers'].unique()"
   ]
  },
  {
   "cell_type": "markdown",
   "id": "e45a2e30",
   "metadata": {},
   "source": [
    "Supply Chain Shipping/Logistics Partners: Carrier A, Carrier B, and Carrier C."
   ]
  },
  {
   "cell_type": "markdown",
   "id": "ab668dd1",
   "metadata": {},
   "source": [
    "#### Supply Chain Route Network"
   ]
  },
  {
   "cell_type": "code",
   "execution_count": 15,
   "id": "ccdbbbaa",
   "metadata": {},
   "outputs": [
    {
     "data": {
      "text/plain": [
       "array(['Route B', 'Route C', 'Route A'], dtype=object)"
      ]
     },
     "execution_count": 15,
     "metadata": {},
     "output_type": "execute_result"
    }
   ],
   "source": [
    "df['Routes'].unique()"
   ]
  },
  {
   "cell_type": "markdown",
   "id": "caaaf86c",
   "metadata": {},
   "source": [
    "Supply Chain Route Network: Route A, Route B, Route C."
   ]
  },
  {
   "cell_type": "markdown",
   "id": "d54d26a0",
   "metadata": {},
   "source": [
    "#### Integer Columns Aggregation (Sum)"
   ]
  },
  {
   "cell_type": "code",
   "execution_count": 16,
   "id": "b941031f",
   "metadata": {},
   "outputs": [
    {
     "data": {
      "text/plain": [
       "Index(['Product type', 'SKU', 'Price', 'Availability',\n",
       "       'Number of products sold', 'Revenue generated', 'Customer demographics',\n",
       "       'Stock levels', 'Lead times', 'Order quantities', 'Shipping times',\n",
       "       'Shipping carriers', 'Shipping costs', 'Supplier name', 'Location',\n",
       "       'Lead time', 'Production volumes', 'Manufacturing lead time',\n",
       "       'Manufacturing costs', 'Inspection results', 'Defect rates',\n",
       "       'Transportation modes', 'Routes', 'Costs'],\n",
       "      dtype='object')"
      ]
     },
     "execution_count": 16,
     "metadata": {},
     "output_type": "execute_result"
    }
   ],
   "source": [
    "df.columns"
   ]
  },
  {
   "cell_type": "code",
   "execution_count": 17,
   "id": "c9b75aaf",
   "metadata": {},
   "outputs": [
    {
     "data": {
      "text/html": [
       "<div>\n",
       "<style scoped>\n",
       "    .dataframe tbody tr th:only-of-type {\n",
       "        vertical-align: middle;\n",
       "    }\n",
       "\n",
       "    .dataframe tbody tr th {\n",
       "        vertical-align: top;\n",
       "    }\n",
       "\n",
       "    .dataframe thead th {\n",
       "        text-align: right;\n",
       "    }\n",
       "</style>\n",
       "<table border=\"1\" class=\"dataframe\">\n",
       "  <thead>\n",
       "    <tr style=\"text-align: right;\">\n",
       "      <th></th>\n",
       "      <th>Availability</th>\n",
       "      <th>Stock levels</th>\n",
       "      <th>Number of products sold</th>\n",
       "      <th>Order quantities</th>\n",
       "      <th>Production volumes</th>\n",
       "      <th>Manufacturing costs</th>\n",
       "      <th>Shipping costs</th>\n",
       "      <th>Costs</th>\n",
       "      <th>Revenue generated</th>\n",
       "    </tr>\n",
       "    <tr>\n",
       "      <th>Product type</th>\n",
       "      <th></th>\n",
       "      <th></th>\n",
       "      <th></th>\n",
       "      <th></th>\n",
       "      <th></th>\n",
       "      <th></th>\n",
       "      <th></th>\n",
       "      <th></th>\n",
       "      <th></th>\n",
       "    </tr>\n",
       "  </thead>\n",
       "  <tbody>\n",
       "    <tr>\n",
       "      <th>cosmetics</th>\n",
       "      <td>1332</td>\n",
       "      <td>1525</td>\n",
       "      <td>11757</td>\n",
       "      <td>1343</td>\n",
       "      <td>12461</td>\n",
       "      <td>1119.371253</td>\n",
       "      <td>157.563663</td>\n",
       "      <td>13366.397283</td>\n",
       "      <td>161521.266001</td>\n",
       "    </tr>\n",
       "    <tr>\n",
       "      <th>haircare</th>\n",
       "      <td>1471</td>\n",
       "      <td>1644</td>\n",
       "      <td>13611</td>\n",
       "      <td>1480</td>\n",
       "      <td>19957</td>\n",
       "      <td>1647.571776</td>\n",
       "      <td>200.863735</td>\n",
       "      <td>17328.862865</td>\n",
       "      <td>174455.390606</td>\n",
       "    </tr>\n",
       "    <tr>\n",
       "      <th>skincare</th>\n",
       "      <td>2037</td>\n",
       "      <td>1608</td>\n",
       "      <td>20731</td>\n",
       "      <td>2099</td>\n",
       "      <td>24366</td>\n",
       "      <td>1959.726295</td>\n",
       "      <td>196.387510</td>\n",
       "      <td>22229.318068</td>\n",
       "      <td>241628.162133</td>\n",
       "    </tr>\n",
       "  </tbody>\n",
       "</table>\n",
       "</div>"
      ],
      "text/plain": [
       "              Availability  Stock levels  Number of products sold  \\\n",
       "Product type                                                        \n",
       "cosmetics             1332          1525                    11757   \n",
       "haircare              1471          1644                    13611   \n",
       "skincare              2037          1608                    20731   \n",
       "\n",
       "              Order quantities  Production volumes  Manufacturing costs  \\\n",
       "Product type                                                              \n",
       "cosmetics                 1343               12461          1119.371253   \n",
       "haircare                  1480               19957          1647.571776   \n",
       "skincare                  2099               24366          1959.726295   \n",
       "\n",
       "              Shipping costs         Costs  Revenue generated  \n",
       "Product type                                                   \n",
       "cosmetics         157.563663  13366.397283      161521.266001  \n",
       "haircare          200.863735  17328.862865      174455.390606  \n",
       "skincare          196.387510  22229.318068      241628.162133  "
      ]
     },
     "execution_count": 17,
     "metadata": {},
     "output_type": "execute_result"
    }
   ],
   "source": [
    "df.groupby('Product type').agg({'Availability':'sum', 'Stock levels':'sum', 'Number of products sold':'sum', \n",
    "                                'Order quantities':'sum', 'Production volumes':'sum',  'Manufacturing costs':'sum',\n",
    "                                'Shipping costs':'sum', 'Costs':'sum', 'Revenue generated':'sum'})"
   ]
  },
  {
   "cell_type": "code",
   "execution_count": 18,
   "id": "57c108b6",
   "metadata": {},
   "outputs": [
    {
     "data": {
      "text/plain": [
       "Availability                 4840.000000\n",
       "Stock levels                 4777.000000\n",
       "Number of products sold     46099.000000\n",
       "Order quantities             4922.000000\n",
       "Production volumes          56784.000000\n",
       "Manufacturing costs          4726.669324\n",
       "Shipping costs                554.814907\n",
       "Costs                       52924.578215\n",
       "Revenue generated          577604.818740\n",
       "dtype: float64"
      ]
     },
     "execution_count": 18,
     "metadata": {},
     "output_type": "execute_result"
    }
   ],
   "source": [
    "#Totalling the above aggregated columns\n",
    "df[['Availability', 'Stock levels', 'Number of products sold', \n",
    "    'Order quantities', 'Production volumes',  'Manufacturing costs',\n",
    "    'Shipping costs', 'Costs', 'Revenue generated']].sum()"
   ]
  },
  {
   "cell_type": "markdown",
   "id": "df30792d",
   "metadata": {},
   "source": [
    "Our analysis reveals that Skincare products are the most widely available, with a staggering 2,037 product types, followed by Haircare (1,471) and Cosmetics (1,332), totaling 4,840.\n",
    "\n",
    "But availability is just the beginning. When it comes to stock levels, Haircare products take the lead, with 1,644 units in stock, narrowly surpassing Skincare (1,608) and Cosmetics (1,525), totaling 4,777 units.\n",
    "\n",
    "However, Skincare products steal the show when it comes to sales, with a whopping 20,731 units sold, followed by Haircare (13,611) and Cosmetics (11,757), totaling 46,099 units.\n",
    "\n",
    "This trend continues with order quantities, where Skincare products top the list with 2,099 orders, followed by Haircare (1,480) and Cosmetics (1,343), totaling 4,922 units.\n",
    "\n",
    "Given their immense popularity, it's no surprise that Skincare products have the highest production volumes, with 24,366 units produced, followed by Haircare (19,957) and Cosmetics (12,461), totaling 56,784 units.\n",
    "\n",
    "As we explore the financial aspects, Skincare products again take the lead in manufacturing costs, with 1,959.7 Dollars, followed by Haircare 1,647.6 Dollars, and Cosmetics 1,119.4 Dollars, totaling 4,726.7 Dollars.\n",
    "\n",
    "However, Haircare products incur the highest shipping costs, with 200.9 Dollars, followed by Skincare 196.4 Dollars and Cosmetics 157.6 Dollars, totaling 554.8 Dollars.\n",
    "\n",
    "When it comes to overall supply chain costs, Skincare products top the list with 22,229.3 Dollars, followed by Haircare 17,328.9 Dollars, and Cosmetics 13,366.4 Dollars, totaling 52,924.5 Dollars.\n",
    "\n",
    "Finally, the revenue generated by each product category reveals a clear winner: Skincare products, with a staggering $241,628, followed by Haircare 174,455 Dollars, and Cosmetics 161,521 Dollars, cumulatively reaching 577,604.8 Dollars.\n",
    "\n",
    "This comprehensive analysis paints a vivid picture of the skincare industry's dominance, highlighting its impressive sales, production volumes, and revenue generation."
   ]
  },
  {
   "cell_type": "markdown",
   "id": "96658c48",
   "metadata": {},
   "source": [
    "#### Order quantity & Revenue Generated by Location and Customer demographics"
   ]
  },
  {
   "cell_type": "code",
   "execution_count": 19,
   "id": "4399b649",
   "metadata": {},
   "outputs": [
    {
     "data": {
      "text/html": [
       "<div>\n",
       "<style scoped>\n",
       "    .dataframe tbody tr th:only-of-type {\n",
       "        vertical-align: middle;\n",
       "    }\n",
       "\n",
       "    .dataframe tbody tr th {\n",
       "        vertical-align: top;\n",
       "    }\n",
       "\n",
       "    .dataframe thead th {\n",
       "        text-align: right;\n",
       "    }\n",
       "</style>\n",
       "<table border=\"1\" class=\"dataframe\">\n",
       "  <thead>\n",
       "    <tr style=\"text-align: right;\">\n",
       "      <th></th>\n",
       "      <th></th>\n",
       "      <th>Order quantities</th>\n",
       "      <th>Revenue generated</th>\n",
       "    </tr>\n",
       "    <tr>\n",
       "      <th>Location</th>\n",
       "      <th>Customer demographics</th>\n",
       "      <th></th>\n",
       "      <th></th>\n",
       "    </tr>\n",
       "  </thead>\n",
       "  <tbody>\n",
       "    <tr>\n",
       "      <th rowspan=\"4\" valign=\"top\">Bangalore</th>\n",
       "      <th>Female</th>\n",
       "      <td>194</td>\n",
       "      <td>31984.736279</td>\n",
       "    </tr>\n",
       "    <tr>\n",
       "      <th>Male</th>\n",
       "      <td>172</td>\n",
       "      <td>32013.151045</td>\n",
       "    </tr>\n",
       "    <tr>\n",
       "      <th>Non-binary</th>\n",
       "      <td>396</td>\n",
       "      <td>36192.081924</td>\n",
       "    </tr>\n",
       "    <tr>\n",
       "      <th>Unknown</th>\n",
       "      <td>7</td>\n",
       "      <td>2411.754632</td>\n",
       "    </tr>\n",
       "    <tr>\n",
       "      <th rowspan=\"4\" valign=\"top\">Chennai</th>\n",
       "      <th>Female</th>\n",
       "      <td>216</td>\n",
       "      <td>25361.167313</td>\n",
       "    </tr>\n",
       "    <tr>\n",
       "      <th>Male</th>\n",
       "      <td>217</td>\n",
       "      <td>27967.825528</td>\n",
       "    </tr>\n",
       "    <tr>\n",
       "      <th>Non-binary</th>\n",
       "      <td>157</td>\n",
       "      <td>9595.839301</td>\n",
       "    </tr>\n",
       "    <tr>\n",
       "      <th>Unknown</th>\n",
       "      <td>519</td>\n",
       "      <td>56217.983608</td>\n",
       "    </tr>\n",
       "    <tr>\n",
       "      <th rowspan=\"4\" valign=\"top\">Delhi</th>\n",
       "      <th>Female</th>\n",
       "      <td>343</td>\n",
       "      <td>41346.579416</td>\n",
       "    </tr>\n",
       "    <tr>\n",
       "      <th>Male</th>\n",
       "      <td>150</td>\n",
       "      <td>13093.216793</td>\n",
       "    </tr>\n",
       "    <tr>\n",
       "      <th>Non-binary</th>\n",
       "      <td>100</td>\n",
       "      <td>4707.654962</td>\n",
       "    </tr>\n",
       "    <tr>\n",
       "      <th>Unknown</th>\n",
       "      <td>140</td>\n",
       "      <td>21880.250054</td>\n",
       "    </tr>\n",
       "    <tr>\n",
       "      <th rowspan=\"4\" valign=\"top\">Kolkata</th>\n",
       "      <th>Female</th>\n",
       "      <td>240</td>\n",
       "      <td>32862.333872</td>\n",
       "    </tr>\n",
       "    <tr>\n",
       "      <th>Male</th>\n",
       "      <td>250</td>\n",
       "      <td>28208.649917</td>\n",
       "    </tr>\n",
       "    <tr>\n",
       "      <th>Non-binary</th>\n",
       "      <td>331</td>\n",
       "      <td>27653.394244</td>\n",
       "    </tr>\n",
       "    <tr>\n",
       "      <th>Unknown</th>\n",
       "      <td>407</td>\n",
       "      <td>48353.172972</td>\n",
       "    </tr>\n",
       "    <tr>\n",
       "      <th rowspan=\"4\" valign=\"top\">Mumbai</th>\n",
       "      <th>Female</th>\n",
       "      <td>148</td>\n",
       "      <td>29959.672241</td>\n",
       "    </tr>\n",
       "    <tr>\n",
       "      <th>Male</th>\n",
       "      <td>110</td>\n",
       "      <td>25351.550977</td>\n",
       "    </tr>\n",
       "    <tr>\n",
       "      <th>Non-binary</th>\n",
       "      <td>308</td>\n",
       "      <td>38216.831087</td>\n",
       "    </tr>\n",
       "    <tr>\n",
       "      <th>Unknown</th>\n",
       "      <td>517</td>\n",
       "      <td>44226.972575</td>\n",
       "    </tr>\n",
       "  </tbody>\n",
       "</table>\n",
       "</div>"
      ],
      "text/plain": [
       "                                 Order quantities  Revenue generated\n",
       "Location  Customer demographics                                     \n",
       "Bangalore Female                              194       31984.736279\n",
       "          Male                                172       32013.151045\n",
       "          Non-binary                          396       36192.081924\n",
       "          Unknown                               7        2411.754632\n",
       "Chennai   Female                              216       25361.167313\n",
       "          Male                                217       27967.825528\n",
       "          Non-binary                          157        9595.839301\n",
       "          Unknown                             519       56217.983608\n",
       "Delhi     Female                              343       41346.579416\n",
       "          Male                                150       13093.216793\n",
       "          Non-binary                          100        4707.654962\n",
       "          Unknown                             140       21880.250054\n",
       "Kolkata   Female                              240       32862.333872\n",
       "          Male                                250       28208.649917\n",
       "          Non-binary                          331       27653.394244\n",
       "          Unknown                             407       48353.172972\n",
       "Mumbai    Female                              148       29959.672241\n",
       "          Male                                110       25351.550977\n",
       "          Non-binary                          308       38216.831087\n",
       "          Unknown                             517       44226.972575"
      ]
     },
     "execution_count": 19,
     "metadata": {},
     "output_type": "execute_result"
    }
   ],
   "source": [
    "df.groupby(['Location','Customer demographics']).agg({'Order quantities':'sum', 'Revenue generated':'sum'})"
   ]
  },
  {
   "cell_type": "markdown",
   "id": "32a9d3f2",
   "metadata": {},
   "source": [
    "This analysis of order quantities and revenue generated by customer demographics across five cities reveals:\n",
    "\n",
    "- Female customers in Bangalore and Mumbai generate significant revenue (31,984 and 29,959 Dollars, respectively).\n",
    "- Non-binary customers in Bangalore have the highest order quantity (396) and revenue (36,192 Dollars).\n",
    "- Unknown customer demographics in Chennai and Mumbai have surprisingly high revenue (56,218 and 44,227 Dollars, respectively).\n",
    "- Male customers in Kolkata have the highest revenue (28,209 Dollars) among all male demographics.\n",
    "\n",
    "Insights:\n",
    "\n",
    "- Bangalore's non-binary customers are a key revenue driver.\n",
    "- Unknown customer demographics in Chennai and Mumbai present opportunities for targeted marketing.\n",
    "- Kolkata's male customers have significant purchasing power."
   ]
  },
  {
   "cell_type": "markdown",
   "id": "bc874846",
   "metadata": {},
   "source": [
    "#### Product type, Order quantity, & Revenue Generated by Location"
   ]
  },
  {
   "cell_type": "code",
   "execution_count": 20,
   "id": "b0b11e3b",
   "metadata": {},
   "outputs": [
    {
     "data": {
      "text/html": [
       "<div>\n",
       "<style scoped>\n",
       "    .dataframe tbody tr th:only-of-type {\n",
       "        vertical-align: middle;\n",
       "    }\n",
       "\n",
       "    .dataframe tbody tr th {\n",
       "        vertical-align: top;\n",
       "    }\n",
       "\n",
       "    .dataframe thead th {\n",
       "        text-align: right;\n",
       "    }\n",
       "</style>\n",
       "<table border=\"1\" class=\"dataframe\">\n",
       "  <thead>\n",
       "    <tr style=\"text-align: right;\">\n",
       "      <th></th>\n",
       "      <th></th>\n",
       "      <th>Order quantities</th>\n",
       "      <th>Revenue generated</th>\n",
       "    </tr>\n",
       "    <tr>\n",
       "      <th>Location</th>\n",
       "      <th>Product type</th>\n",
       "      <th></th>\n",
       "      <th></th>\n",
       "    </tr>\n",
       "  </thead>\n",
       "  <tbody>\n",
       "    <tr>\n",
       "      <th rowspan=\"3\" valign=\"top\">Bangalore</th>\n",
       "      <th>cosmetics</th>\n",
       "      <td>114</td>\n",
       "      <td>19309.562879</td>\n",
       "    </tr>\n",
       "    <tr>\n",
       "      <th>haircare</th>\n",
       "      <td>297</td>\n",
       "      <td>51654.345695</td>\n",
       "    </tr>\n",
       "    <tr>\n",
       "      <th>skincare</th>\n",
       "      <td>358</td>\n",
       "      <td>31637.815306</td>\n",
       "    </tr>\n",
       "    <tr>\n",
       "      <th rowspan=\"3\" valign=\"top\">Chennai</th>\n",
       "      <th>cosmetics</th>\n",
       "      <td>319</td>\n",
       "      <td>31461.947456</td>\n",
       "    </tr>\n",
       "    <tr>\n",
       "      <th>haircare</th>\n",
       "      <td>318</td>\n",
       "      <td>28723.448933</td>\n",
       "    </tr>\n",
       "    <tr>\n",
       "      <th>skincare</th>\n",
       "      <td>472</td>\n",
       "      <td>58957.419361</td>\n",
       "    </tr>\n",
       "    <tr>\n",
       "      <th rowspan=\"3\" valign=\"top\">Delhi</th>\n",
       "      <th>cosmetics</th>\n",
       "      <td>405</td>\n",
       "      <td>37429.677332</td>\n",
       "    </tr>\n",
       "    <tr>\n",
       "      <th>haircare</th>\n",
       "      <td>71</td>\n",
       "      <td>14625.900766</td>\n",
       "    </tr>\n",
       "    <tr>\n",
       "      <th>skincare</th>\n",
       "      <td>257</td>\n",
       "      <td>28972.123127</td>\n",
       "    </tr>\n",
       "    <tr>\n",
       "      <th rowspan=\"3\" valign=\"top\">Kolkata</th>\n",
       "      <th>cosmetics</th>\n",
       "      <td>149</td>\n",
       "      <td>24163.571856</td>\n",
       "    </tr>\n",
       "    <tr>\n",
       "      <th>haircare</th>\n",
       "      <td>435</td>\n",
       "      <td>35027.713248</td>\n",
       "    </tr>\n",
       "    <tr>\n",
       "      <th>skincare</th>\n",
       "      <td>644</td>\n",
       "      <td>77886.265901</td>\n",
       "    </tr>\n",
       "    <tr>\n",
       "      <th rowspan=\"3\" valign=\"top\">Mumbai</th>\n",
       "      <th>cosmetics</th>\n",
       "      <td>356</td>\n",
       "      <td>49156.506478</td>\n",
       "    </tr>\n",
       "    <tr>\n",
       "      <th>haircare</th>\n",
       "      <td>359</td>\n",
       "      <td>44423.981964</td>\n",
       "    </tr>\n",
       "    <tr>\n",
       "      <th>skincare</th>\n",
       "      <td>368</td>\n",
       "      <td>44174.538438</td>\n",
       "    </tr>\n",
       "  </tbody>\n",
       "</table>\n",
       "</div>"
      ],
      "text/plain": [
       "                        Order quantities  Revenue generated\n",
       "Location  Product type                                     \n",
       "Bangalore cosmetics                  114       19309.562879\n",
       "          haircare                   297       51654.345695\n",
       "          skincare                   358       31637.815306\n",
       "Chennai   cosmetics                  319       31461.947456\n",
       "          haircare                   318       28723.448933\n",
       "          skincare                   472       58957.419361\n",
       "Delhi     cosmetics                  405       37429.677332\n",
       "          haircare                    71       14625.900766\n",
       "          skincare                   257       28972.123127\n",
       "Kolkata   cosmetics                  149       24163.571856\n",
       "          haircare                   435       35027.713248\n",
       "          skincare                   644       77886.265901\n",
       "Mumbai    cosmetics                  356       49156.506478\n",
       "          haircare                   359       44423.981964\n",
       "          skincare                   368       44174.538438"
      ]
     },
     "execution_count": 20,
     "metadata": {},
     "output_type": "execute_result"
    }
   ],
   "source": [
    "df.groupby(['Location','Product type']).agg({'Order quantities':'sum', 'Revenue generated':'sum'})"
   ]
  },
  {
   "cell_type": "code",
   "execution_count": 21,
   "id": "6487979d",
   "metadata": {},
   "outputs": [
    {
     "data": {
      "text/html": [
       "<div>\n",
       "<style scoped>\n",
       "    .dataframe tbody tr th:only-of-type {\n",
       "        vertical-align: middle;\n",
       "    }\n",
       "\n",
       "    .dataframe tbody tr th {\n",
       "        vertical-align: top;\n",
       "    }\n",
       "\n",
       "    .dataframe thead th {\n",
       "        text-align: right;\n",
       "    }\n",
       "</style>\n",
       "<table border=\"1\" class=\"dataframe\">\n",
       "  <thead>\n",
       "    <tr style=\"text-align: right;\">\n",
       "      <th></th>\n",
       "      <th>Order quantities</th>\n",
       "      <th>Revenue generated</th>\n",
       "    </tr>\n",
       "    <tr>\n",
       "      <th>Location</th>\n",
       "      <th></th>\n",
       "      <th></th>\n",
       "    </tr>\n",
       "  </thead>\n",
       "  <tbody>\n",
       "    <tr>\n",
       "      <th>Kolkata</th>\n",
       "      <td>1228</td>\n",
       "      <td>137077.551005</td>\n",
       "    </tr>\n",
       "    <tr>\n",
       "      <th>Chennai</th>\n",
       "      <td>1109</td>\n",
       "      <td>119142.815750</td>\n",
       "    </tr>\n",
       "    <tr>\n",
       "      <th>Mumbai</th>\n",
       "      <td>1083</td>\n",
       "      <td>137755.026880</td>\n",
       "    </tr>\n",
       "    <tr>\n",
       "      <th>Bangalore</th>\n",
       "      <td>769</td>\n",
       "      <td>102601.723880</td>\n",
       "    </tr>\n",
       "    <tr>\n",
       "      <th>Delhi</th>\n",
       "      <td>733</td>\n",
       "      <td>81027.701225</td>\n",
       "    </tr>\n",
       "  </tbody>\n",
       "</table>\n",
       "</div>"
      ],
      "text/plain": [
       "           Order quantities  Revenue generated\n",
       "Location                                      \n",
       "Kolkata                1228      137077.551005\n",
       "Chennai                1109      119142.815750\n",
       "Mumbai                 1083      137755.026880\n",
       "Bangalore               769      102601.723880\n",
       "Delhi                   733       81027.701225"
      ]
     },
     "execution_count": 21,
     "metadata": {},
     "output_type": "execute_result"
    }
   ],
   "source": [
    "df.groupby(['Location']).agg({'Order quantities':'sum', 'Revenue generated':'sum'}).sort_values(by='Order quantities', \n",
    "                                                                                                ascending=False)"
   ]
  },
  {
   "cell_type": "markdown",
   "id": "3851af3d",
   "metadata": {},
   "source": [
    "This comparative analysis of cosmetics, haircare, and skincare sales across five cities (Bangalore, Chennai, Delhi, Kolkata, and Mumbai) reveals interesting trends:\n",
    "\n",
    "- Cosmetics sales are highest in Mumbai (49,156 Dollars) and lowest in Bangalore (19,309 Dollars).\n",
    "- Haircare sales are highest in Kolkata (35,027 Dollars) and lowest in Delhi (14,625 Dollars).\n",
    "- Skincare sales are highest in Kolkata (77,886 Dollars) and lowest in Bangalore (31,637 Dollars).\n",
    "\n",
    "Insights:\n",
    "\n",
    "- Kolkata appears to be a strong market for both haircare and skincare products.\n",
    "- Mumbai is a significant market for cosmetics.\n",
    "- Delhi's sales are relatively low across all categories, indicating potential opportunities for growth.\n",
    "\n",
    "Mumbai, the capital of India, generated the highest revenue at 137,755 Dollars (34.6% of total revenue), followed by Kolkata at 137,077.50 Dollars (34.4% of total revenue), Chennai at 119,142.80 Dollars (29.9% of total revenue), Bangalore at 102,601.70 Dollars (25.8% of total revenue), and Delhi with the lowest revenue at 81,027.70 Dollars (20.4% of total revenue).\n"
   ]
  },
  {
   "cell_type": "markdown",
   "id": "a5851916",
   "metadata": {},
   "source": [
    "#### *\tWhich supplier has the least average lead time?"
   ]
  },
  {
   "cell_type": "code",
   "execution_count": 22,
   "id": "ccf5f6a0",
   "metadata": {},
   "outputs": [
    {
     "data": {
      "text/plain": [
       "Supplier name\n",
       "Supplier 4    17.000000\n",
       "Supplier 1    16.777778\n",
       "Supplier 2    16.227273\n",
       "Supplier 5    14.722222\n",
       "Supplier 3    14.333333\n",
       "Name: Lead times, dtype: float64"
      ]
     },
     "execution_count": 22,
     "metadata": {},
     "output_type": "execute_result"
    }
   ],
   "source": [
    "df.groupby('Supplier name')['Lead times'].mean().sort_values(ascending=False)"
   ]
  },
  {
   "cell_type": "markdown",
   "id": "01c264f9",
   "metadata": {},
   "source": [
    "Obviously Supplier 3 recorded the least average lead time among all others"
   ]
  },
  {
   "cell_type": "markdown",
   "id": "3fc41762",
   "metadata": {},
   "source": [
    "#### * What is the defect rate across product types (skincare, haircare, cosmetics)?"
   ]
  },
  {
   "cell_type": "code",
   "execution_count": 23,
   "id": "2ad40080",
   "metadata": {},
   "outputs": [
    {
     "data": {
      "text/plain": [
       "Product type\n",
       "haircare     2.483150\n",
       "skincare     2.334681\n",
       "cosmetics    1.919287\n",
       "Name: Defect rates, dtype: float64"
      ]
     },
     "execution_count": 23,
     "metadata": {},
     "output_type": "execute_result"
    }
   ],
   "source": [
    "df.groupby('Product type')['Defect rates'].mean().sort_values(ascending=False)"
   ]
  },
  {
   "cell_type": "markdown",
   "id": "c14a62b7",
   "metadata": {},
   "source": [
    "#### * What is the average shipping time across shipping carriers?"
   ]
  },
  {
   "cell_type": "code",
   "execution_count": 24,
   "id": "aee514a8",
   "metadata": {},
   "outputs": [
    {
     "data": {
      "text/plain": [
       "Shipping carriers\n",
       "Carrier A    6.142857\n",
       "Carrier C    6.034483\n",
       "Carrier B    5.302326\n",
       "Name: Shipping times, dtype: float64"
      ]
     },
     "execution_count": 24,
     "metadata": {},
     "output_type": "execute_result"
    }
   ],
   "source": [
    "df.groupby('Shipping carriers')['Shipping times'].mean().sort_values(ascending=False)"
   ]
  },
  {
   "cell_type": "markdown",
   "id": "e386d1bc",
   "metadata": {},
   "source": [
    "#### Overall Inventory turnover"
   ]
  },
  {
   "cell_type": "code",
   "execution_count": 25,
   "id": "613b7f53",
   "metadata": {},
   "outputs": [
    {
     "data": {
      "text/plain": [
       "965.019886958342"
      ]
     },
     "execution_count": 25,
     "metadata": {},
     "output_type": "execute_result"
    }
   ],
   "source": [
    "df['Number of products sold'].sum() / df['Stock levels'].mean()"
   ]
  },
  {
   "cell_type": "markdown",
   "id": "2e3f161f",
   "metadata": {},
   "source": [
    "####  * What is the inventory turnover ratio for each product category?"
   ]
  },
  {
   "cell_type": "code",
   "execution_count": 26,
   "id": "c4bce6ed",
   "metadata": {},
   "outputs": [
    {
     "data": {
      "text/plain": [
       "<pandas.core.groupby.generic.DataFrameGroupBy object at 0x000001861DC37F90>"
      ]
     },
     "execution_count": 26,
     "metadata": {},
     "output_type": "execute_result"
    }
   ],
   "source": [
    "groupedproduct = df.groupby('Product type')\n",
    "groupedproduct"
   ]
  },
  {
   "cell_type": "code",
   "execution_count": 27,
   "id": "48707f38",
   "metadata": {},
   "outputs": [
    {
     "data": {
      "text/plain": [
       "Product type\n",
       "skincare     20731\n",
       "haircare     13611\n",
       "cosmetics    11757\n",
       "Name: Number of products sold, dtype: int64"
      ]
     },
     "execution_count": 27,
     "metadata": {},
     "output_type": "execute_result"
    }
   ],
   "source": [
    "Numprod = groupedproduct['Number of products sold'].sum().sort_values(ascending=False)\n",
    "Numprod"
   ]
  },
  {
   "cell_type": "code",
   "execution_count": 28,
   "id": "384dee0a",
   "metadata": {},
   "outputs": [
    {
     "data": {
      "text/plain": [
       "Product type\n",
       "cosmetics    58.653846\n",
       "haircare     48.352941\n",
       "skincare     40.200000\n",
       "Name: Stock levels, dtype: float64"
      ]
     },
     "execution_count": 28,
     "metadata": {},
     "output_type": "execute_result"
    }
   ],
   "source": [
    "Avg_stocklev = groupedproduct['Stock levels'].mean().sort_values(ascending=False)\n",
    "Avg_stocklev"
   ]
  },
  {
   "cell_type": "code",
   "execution_count": 29,
   "id": "1d02f8e3",
   "metadata": {},
   "outputs": [
    {
     "data": {
      "text/html": [
       "<div>\n",
       "<style scoped>\n",
       "    .dataframe tbody tr th:only-of-type {\n",
       "        vertical-align: middle;\n",
       "    }\n",
       "\n",
       "    .dataframe tbody tr th {\n",
       "        vertical-align: top;\n",
       "    }\n",
       "\n",
       "    .dataframe thead th {\n",
       "        text-align: right;\n",
       "    }\n",
       "</style>\n",
       "<table border=\"1\" class=\"dataframe\">\n",
       "  <thead>\n",
       "    <tr style=\"text-align: right;\">\n",
       "      <th></th>\n",
       "      <th>Number of products sold</th>\n",
       "      <th>Avg Stock levels</th>\n",
       "    </tr>\n",
       "    <tr>\n",
       "      <th>Product type</th>\n",
       "      <th></th>\n",
       "      <th></th>\n",
       "    </tr>\n",
       "  </thead>\n",
       "  <tbody>\n",
       "    <tr>\n",
       "      <th>skincare</th>\n",
       "      <td>20731</td>\n",
       "      <td>40.200000</td>\n",
       "    </tr>\n",
       "    <tr>\n",
       "      <th>haircare</th>\n",
       "      <td>13611</td>\n",
       "      <td>48.352941</td>\n",
       "    </tr>\n",
       "    <tr>\n",
       "      <th>cosmetics</th>\n",
       "      <td>11757</td>\n",
       "      <td>58.653846</td>\n",
       "    </tr>\n",
       "  </tbody>\n",
       "</table>\n",
       "</div>"
      ],
      "text/plain": [
       "              Number of products sold  Avg Stock levels\n",
       "Product type                                           \n",
       "skincare                        20731         40.200000\n",
       "haircare                        13611         48.352941\n",
       "cosmetics                       11757         58.653846"
      ]
     },
     "execution_count": 29,
     "metadata": {},
     "output_type": "execute_result"
    }
   ],
   "source": [
    "#Creation of temporary table by concatinating two set of data (Numprod & Avg_stocklev)\n",
    "tem_table = pd.concat([Numprod, Avg_stocklev], axis='columns', sort=False)\n",
    "tem_table.rename(columns={'Stock levels':'Avg Stock levels'}, inplace=True)\n",
    "tem_table"
   ]
  },
  {
   "cell_type": "code",
   "execution_count": 30,
   "id": "d4ef1244",
   "metadata": {},
   "outputs": [
    {
     "data": {
      "text/html": [
       "<div>\n",
       "<style scoped>\n",
       "    .dataframe tbody tr th:only-of-type {\n",
       "        vertical-align: middle;\n",
       "    }\n",
       "\n",
       "    .dataframe tbody tr th {\n",
       "        vertical-align: top;\n",
       "    }\n",
       "\n",
       "    .dataframe thead th {\n",
       "        text-align: right;\n",
       "    }\n",
       "</style>\n",
       "<table border=\"1\" class=\"dataframe\">\n",
       "  <thead>\n",
       "    <tr style=\"text-align: right;\">\n",
       "      <th></th>\n",
       "      <th>Number of products sold</th>\n",
       "      <th>Avg Stock levels</th>\n",
       "      <th>inventory turnover ratio</th>\n",
       "    </tr>\n",
       "    <tr>\n",
       "      <th>Product type</th>\n",
       "      <th></th>\n",
       "      <th></th>\n",
       "      <th></th>\n",
       "    </tr>\n",
       "  </thead>\n",
       "  <tbody>\n",
       "    <tr>\n",
       "      <th>skincare</th>\n",
       "      <td>20731</td>\n",
       "      <td>40.200000</td>\n",
       "      <td>515.696517</td>\n",
       "    </tr>\n",
       "    <tr>\n",
       "      <th>haircare</th>\n",
       "      <td>13611</td>\n",
       "      <td>48.352941</td>\n",
       "      <td>281.492701</td>\n",
       "    </tr>\n",
       "    <tr>\n",
       "      <th>cosmetics</th>\n",
       "      <td>11757</td>\n",
       "      <td>58.653846</td>\n",
       "      <td>200.447213</td>\n",
       "    </tr>\n",
       "  </tbody>\n",
       "</table>\n",
       "</div>"
      ],
      "text/plain": [
       "              Number of products sold  Avg Stock levels  \\\n",
       "Product type                                              \n",
       "skincare                        20731         40.200000   \n",
       "haircare                        13611         48.352941   \n",
       "cosmetics                       11757         58.653846   \n",
       "\n",
       "              inventory turnover ratio  \n",
       "Product type                            \n",
       "skincare                    515.696517  \n",
       "haircare                    281.492701  \n",
       "cosmetics                   200.447213  "
      ]
     },
     "execution_count": 30,
     "metadata": {},
     "output_type": "execute_result"
    }
   ],
   "source": [
    "#Calculating the inventory turnover ratio across product type by creating additional column for such purpose\n",
    "tem_table['inventory turnover ratio'] = tem_table['Number of products sold'] / tem_table['Avg Stock levels']\n",
    "tem_table.sort_values('inventory turnover ratio', ascending=False)"
   ]
  },
  {
   "cell_type": "markdown",
   "id": "9023aa46",
   "metadata": {},
   "source": [
    "This analysis of product types reveals:\n",
    "\n",
    "- Skincare products have the highest number of products sold (20,731) and inventory turnover ratio (515).\n",
    "- Haircare products have a relatively low inventory turnover ratio (281) despite having a moderate number of products sold (13,611).\n",
    "- Cosmetics have the highest average stock levels (58) but a relatively low inventory turnover ratio (200).\n",
    "\n",
    "Insights:\n",
    "\n",
    "- Skincare products are fast-moving and have efficient inventory management.\n",
    "- Haircare products may have inventory management issues, leading to lower turnover ratios.\n",
    "- Cosmetics have high stock levels, indicating potential overstocking. "
   ]
  },
  {
   "cell_type": "markdown",
   "id": "ccaaa8b8",
   "metadata": {},
   "source": [
    "#### * What is the total shipping cost and average shipping cost across all shipping carriers and transportation modes?"
   ]
  },
  {
   "cell_type": "code",
   "execution_count": 31,
   "id": "685f4e13",
   "metadata": {},
   "outputs": [
    {
     "data": {
      "text/html": [
       "<div>\n",
       "<style scoped>\n",
       "    .dataframe tbody tr th:only-of-type {\n",
       "        vertical-align: middle;\n",
       "    }\n",
       "\n",
       "    .dataframe tbody tr th {\n",
       "        vertical-align: top;\n",
       "    }\n",
       "\n",
       "    .dataframe thead tr th {\n",
       "        text-align: left;\n",
       "    }\n",
       "\n",
       "    .dataframe thead tr:last-of-type th {\n",
       "        text-align: right;\n",
       "    }\n",
       "</style>\n",
       "<table border=\"1\" class=\"dataframe\">\n",
       "  <thead>\n",
       "    <tr>\n",
       "      <th></th>\n",
       "      <th></th>\n",
       "      <th colspan=\"2\" halign=\"left\">Shipping costs</th>\n",
       "    </tr>\n",
       "    <tr>\n",
       "      <th></th>\n",
       "      <th></th>\n",
       "      <th>sum</th>\n",
       "      <th>mean</th>\n",
       "    </tr>\n",
       "    <tr>\n",
       "      <th>Shipping carriers</th>\n",
       "      <th>Transportation modes</th>\n",
       "      <th></th>\n",
       "      <th></th>\n",
       "    </tr>\n",
       "  </thead>\n",
       "  <tbody>\n",
       "    <tr>\n",
       "      <th rowspan=\"4\" valign=\"top\">Carrier A</th>\n",
       "      <th>Air</th>\n",
       "      <td>31.236945</td>\n",
       "      <td>6.247389</td>\n",
       "    </tr>\n",
       "    <tr>\n",
       "      <th>Rail</th>\n",
       "      <td>44.798820</td>\n",
       "      <td>6.399831</td>\n",
       "    </tr>\n",
       "    <tr>\n",
       "      <th>Road</th>\n",
       "      <td>60.120055</td>\n",
       "      <td>5.465460</td>\n",
       "    </tr>\n",
       "    <tr>\n",
       "      <th>Sea</th>\n",
       "      <td>19.382011</td>\n",
       "      <td>3.876402</td>\n",
       "    </tr>\n",
       "    <tr>\n",
       "      <th rowspan=\"4\" valign=\"top\">Carrier B</th>\n",
       "      <th>Air</th>\n",
       "      <td>87.029715</td>\n",
       "      <td>6.216408</td>\n",
       "    </tr>\n",
       "    <tr>\n",
       "      <th>Rail</th>\n",
       "      <td>78.465540</td>\n",
       "      <td>5.231036</td>\n",
       "    </tr>\n",
       "    <tr>\n",
       "      <th>Road</th>\n",
       "      <td>54.740011</td>\n",
       "      <td>4.976365</td>\n",
       "    </tr>\n",
       "    <tr>\n",
       "      <th>Sea</th>\n",
       "      <td>16.662353</td>\n",
       "      <td>5.554118</td>\n",
       "    </tr>\n",
       "    <tr>\n",
       "      <th rowspan=\"4\" valign=\"top\">Carrier C</th>\n",
       "      <th>Air</th>\n",
       "      <td>38.197164</td>\n",
       "      <td>5.456738</td>\n",
       "    </tr>\n",
       "    <tr>\n",
       "      <th>Rail</th>\n",
       "      <td>29.870382</td>\n",
       "      <td>4.978397</td>\n",
       "    </tr>\n",
       "    <tr>\n",
       "      <th>Road</th>\n",
       "      <td>45.861280</td>\n",
       "      <td>6.551611</td>\n",
       "    </tr>\n",
       "    <tr>\n",
       "      <th>Sea</th>\n",
       "      <td>48.450631</td>\n",
       "      <td>5.383403</td>\n",
       "    </tr>\n",
       "  </tbody>\n",
       "</table>\n",
       "</div>"
      ],
      "text/plain": [
       "                                       Shipping costs          \n",
       "                                                  sum      mean\n",
       "Shipping carriers Transportation modes                         \n",
       "Carrier A         Air                       31.236945  6.247389\n",
       "                  Rail                      44.798820  6.399831\n",
       "                  Road                      60.120055  5.465460\n",
       "                  Sea                       19.382011  3.876402\n",
       "Carrier B         Air                       87.029715  6.216408\n",
       "                  Rail                      78.465540  5.231036\n",
       "                  Road                      54.740011  4.976365\n",
       "                  Sea                       16.662353  5.554118\n",
       "Carrier C         Air                       38.197164  5.456738\n",
       "                  Rail                      29.870382  4.978397\n",
       "                  Road                      45.861280  6.551611\n",
       "                  Sea                       48.450631  5.383403"
      ]
     },
     "execution_count": 31,
     "metadata": {},
     "output_type": "execute_result"
    }
   ],
   "source": [
    "df.groupby(['Shipping carriers','Transportation modes']).agg({'Shipping costs': ['sum', 'mean']})"
   ]
  },
  {
   "cell_type": "markdown",
   "id": "b8a4ca42",
   "metadata": {},
   "source": [
    "This shipping carrier analysis reveals:\n",
    "\n",
    "- Carrier A has the lowest average shipping cost across all transportation modes (3.87- 6.40 Dollars).\n",
    "- Carrier B has the highest total shipping cost for Air (87,029 Dollars) and Rail (78,465 Dollars) modes.\n",
    "- Carrier C has the highest average shipping cost for Road (6.55 Dollars) mode.\n",
    "\n",
    "Insights:\n",
    "\n",
    "- Carrier A appears to be the most cost-effective option.\n",
    "- Carrier C's high Road shipping costs may be due to route or capacity issues."
   ]
  },
  {
   "cell_type": "markdown",
   "id": "8019adcf",
   "metadata": {},
   "source": [
    "#### * What are the revenue allocation towards total expenses (manufacturing, costs, and shipping) and the net profit margins for each product category?"
   ]
  },
  {
   "cell_type": "code",
   "execution_count": 32,
   "id": "88e1d51e",
   "metadata": {},
   "outputs": [
    {
     "data": {
      "text/plain": [
       "519398.7562932569"
      ]
     },
     "execution_count": 32,
     "metadata": {},
     "output_type": "execute_result"
    }
   ],
   "source": [
    "shipping_cost = df['Shipping costs'].sum()\n",
    "manufac_cost = df['Manufacturing costs'].sum()\n",
    "cost = df['Costs'].sum()\n",
    "Overall_Expenses =shipping_cost + manufac_cost + cost\n",
    "Revenue = df['Revenue generated'].sum()\n",
    "Overall_Net_profit = Revenue - Overall_Expenses\n",
    "Overall_Net_profit"
   ]
  },
  {
   "cell_type": "code",
   "execution_count": 33,
   "id": "d448fe27",
   "metadata": {},
   "outputs": [
    {
     "data": {
      "text/plain": [
       "58206.062446743"
      ]
     },
     "execution_count": 33,
     "metadata": {},
     "output_type": "execute_result"
    }
   ],
   "source": [
    "Overall_Expenses"
   ]
  },
  {
   "cell_type": "markdown",
   "id": "30eef4bb",
   "metadata": {},
   "source": [
    "###### Skincare Net Profit"
   ]
  },
  {
   "cell_type": "code",
   "execution_count": 34,
   "id": "2848ef30",
   "metadata": {},
   "outputs": [
    {
     "data": {
      "text/plain": [
       "217242.730260332"
      ]
     },
     "execution_count": 34,
     "metadata": {},
     "output_type": "execute_result"
    }
   ],
   "source": [
    "Ptype = df['Product type'] == 'skincare'\n",
    "skincare_Exp = df.loc[Ptype]['Shipping costs'].sum() + df.loc[Ptype]['Manufacturing costs'].sum() + df.loc[Ptype]['Costs'].sum()\n",
    "skincare_Rev = df.loc[Ptype]['Revenue generated'].sum()\n",
    "skincare_Net_Profit = skincare_Rev - skincare_Exp\n",
    "skincare_Net_Profit"
   ]
  },
  {
   "cell_type": "code",
   "execution_count": 35,
   "id": "9ab9d5c6",
   "metadata": {},
   "outputs": [
    {
     "data": {
      "text/plain": [
       "24385.431872668003"
      ]
     },
     "execution_count": 35,
     "metadata": {},
     "output_type": "execute_result"
    }
   ],
   "source": [
    "skincare_Exp"
   ]
  },
  {
   "cell_type": "markdown",
   "id": "8cb93d89",
   "metadata": {},
   "source": [
    "##### Haircare Net Profit"
   ]
  },
  {
   "cell_type": "code",
   "execution_count": 36,
   "id": "b79e7264",
   "metadata": {},
   "outputs": [
    {
     "data": {
      "text/plain": [
       "155278.092230314"
      ]
     },
     "execution_count": 36,
     "metadata": {},
     "output_type": "execute_result"
    }
   ],
   "source": [
    "Ptype = df['Product type'] == 'haircare'\n",
    "haircare_Exp = df.loc[Ptype]['Shipping costs'].sum() + df.loc[Ptype]['Manufacturing costs'].sum() + df.loc[Ptype]['Costs'].sum()\n",
    "haircare_Rev = df.loc[Ptype]['Revenue generated'].sum()\n",
    "haircare_Net_Profit = haircare_Rev - haircare_Exp\n",
    "haircare_Net_Profit"
   ]
  },
  {
   "cell_type": "code",
   "execution_count": 37,
   "id": "8ffc0851",
   "metadata": {},
   "outputs": [
    {
     "data": {
      "text/plain": [
       "19177.298375686"
      ]
     },
     "execution_count": 37,
     "metadata": {},
     "output_type": "execute_result"
    }
   ],
   "source": [
    "haircare_Exp"
   ]
  },
  {
   "cell_type": "markdown",
   "id": "3c306d1c",
   "metadata": {},
   "source": [
    "##### Cosmetics Net Profit"
   ]
  },
  {
   "cell_type": "code",
   "execution_count": 38,
   "id": "e01808b0",
   "metadata": {},
   "outputs": [
    {
     "data": {
      "text/plain": [
       "146877.93380261102"
      ]
     },
     "execution_count": 38,
     "metadata": {},
     "output_type": "execute_result"
    }
   ],
   "source": [
    "Ptype = df['Product type'] == 'cosmetics'\n",
    "cosmetics_Exp = df.loc[Ptype]['Shipping costs'].sum() + df.loc[Ptype]['Manufacturing costs'].sum() + df.loc[Ptype]['Costs'].sum()\n",
    "cosmetics_Rev = df.loc[Ptype]['Revenue generated'].sum()\n",
    "cosmetics_Net_Profit = cosmetics_Rev - cosmetics_Exp\n",
    "cosmetics_Net_Profit"
   ]
  },
  {
   "cell_type": "code",
   "execution_count": 39,
   "id": "beb0c9b6",
   "metadata": {},
   "outputs": [
    {
     "data": {
      "text/plain": [
       "14643.332198389002"
      ]
     },
     "execution_count": 39,
     "metadata": {},
     "output_type": "execute_result"
    }
   ],
   "source": [
    "cosmetics_Exp"
   ]
  },
  {
   "cell_type": "markdown",
   "id": "3e16ce5d",
   "metadata": {},
   "source": [
    "#### * What is the number of products sold and the average price of each product type?"
   ]
  },
  {
   "cell_type": "code",
   "execution_count": 40,
   "id": "ee38b35f",
   "metadata": {},
   "outputs": [
    {
     "data": {
      "text/plain": [
       "46099"
      ]
     },
     "execution_count": 40,
     "metadata": {},
     "output_type": "execute_result"
    }
   ],
   "source": [
    "df['Number of products sold'].sum()"
   ]
  },
  {
   "cell_type": "code",
   "execution_count": 41,
   "id": "0c91b5a9",
   "metadata": {},
   "outputs": [
    {
     "data": {
      "text/plain": [
       "Product type\n",
       "skincare     20731\n",
       "haircare     13611\n",
       "cosmetics    11757\n",
       "Name: Number of products sold, dtype: int64"
      ]
     },
     "execution_count": 41,
     "metadata": {},
     "output_type": "execute_result"
    }
   ],
   "source": [
    "df.groupby('Product type')['Number of products sold'].sum().sort_values(ascending=False)"
   ]
  },
  {
   "cell_type": "code",
   "execution_count": 42,
   "id": "46b17500",
   "metadata": {},
   "outputs": [
    {
     "data": {
      "text/plain": [
       "Product type\n",
       "cosmetics    57.361058\n",
       "skincare     47.259329\n",
       "haircare     46.014279\n",
       "Name: Price, dtype: float64"
      ]
     },
     "execution_count": 42,
     "metadata": {},
     "output_type": "execute_result"
    }
   ],
   "source": [
    "df.groupby('Product type')['Price'].mean().sort_values(ascending=False)"
   ]
  },
  {
   "cell_type": "markdown",
   "id": "bab638a7",
   "metadata": {},
   "source": [
    "#### * How do manufacturing costs compare to revenue across product types?"
   ]
  },
  {
   "cell_type": "code",
   "execution_count": 43,
   "id": "7c218e72",
   "metadata": {},
   "outputs": [],
   "source": [
    "Product_types = df.groupby('Product type')"
   ]
  },
  {
   "cell_type": "code",
   "execution_count": 44,
   "id": "88d56044",
   "metadata": {},
   "outputs": [
    {
     "data": {
      "text/plain": [
       "Product type\n",
       "cosmetics    1119.371253\n",
       "haircare     1647.571776\n",
       "skincare     1959.726295\n",
       "Name: Manufacturing costs, dtype: float64"
      ]
     },
     "execution_count": 44,
     "metadata": {},
     "output_type": "execute_result"
    }
   ],
   "source": [
    "Product_types['Manufacturing costs'].sum()"
   ]
  },
  {
   "cell_type": "code",
   "execution_count": 45,
   "id": "98ff8c05",
   "metadata": {},
   "outputs": [],
   "source": [
    "product_type = ['cosmetics','haircare','skincare']\n",
    "Manufacturing_costs = [1119.371253, 1647.571776, 1959.726295]"
   ]
  },
  {
   "cell_type": "code",
   "execution_count": 108,
   "id": "e00d5400",
   "metadata": {},
   "outputs": [
    {
     "data": {
      "image/png": "[encoded data removed]",
      "text/plain": [
       "<Figure size 640x480 with 1 Axes>"
      ]
     },
     "metadata": {},
     "output_type": "display_data"
    }
   ],
   "source": [
    "plt.bar(product_type, Manufacturing_costs, color='purple', label ='Manufacturing costs')\n",
    "plt.title('Manufacturing Costs by Product Type')\n",
    "plt.xlabel('Product Type')\n",
    "plt.ylabel('Manufacturing Costs ($)')\n",
    "plt.tight_layout() \n",
    "plt.style.use('seaborn-v0_8-darkgrid')\n",
    "plt.show()"
   ]
  },
  {
   "cell_type": "code",
   "execution_count": 47,
   "id": "005960b7",
   "metadata": {},
   "outputs": [
    {
     "data": {
      "text/plain": [
       "Product type\n",
       "cosmetics    161521.266001\n",
       "haircare     174455.390606\n",
       "skincare     241628.162133\n",
       "Name: Revenue generated, dtype: float64"
      ]
     },
     "execution_count": 47,
     "metadata": {},
     "output_type": "execute_result"
    }
   ],
   "source": [
    "df.groupby('Product type')['Revenue generated'].sum()"
   ]
  },
  {
   "cell_type": "code",
   "execution_count": 109,
   "id": "fbbc2442",
   "metadata": {},
   "outputs": [
    {
     "data": {
      "image/png": "[encoded data removed]",
      "text/plain": [
       "<Figure size 640x480 with 1 Axes>"
      ]
     },
     "metadata": {},
     "output_type": "display_data"
    }
   ],
   "source": [
    "Revenue = [161521.266001, 174455.390606,  241628.162133]\n",
    "Product_Type = ['cosmetics', 'haircare', 'skincare']\n",
    "color = ['#8BC34A', '#00B140', '#228B22']\n",
    "\n",
    "plt.pie(Revenue, labels=Product_Type, colors=color, startangle=90, autopct='%1.1f%%',  wedgeprops={'edgecolor':'black'})\n",
    "plt.title('Revenue by Product Type')\n",
    "plt.tight_layout() \n",
    "plt.style.use('fivethirtyeight')\n",
    "plt.show()"
   ]
  },
  {
   "cell_type": "markdown",
   "id": "759e2c1c",
   "metadata": {},
   "source": [
    "#### * How does production volume compare to order quantity by product type?"
   ]
  },
  {
   "cell_type": "code",
   "execution_count": 49,
   "id": "8104d916",
   "metadata": {},
   "outputs": [
    {
     "data": {
      "text/plain": [
       "Product type\n",
       "cosmetics    12461\n",
       "haircare     19957\n",
       "skincare     24366\n",
       "Name: Production volumes, dtype: int64"
      ]
     },
     "execution_count": 49,
     "metadata": {},
     "output_type": "execute_result"
    }
   ],
   "source": [
    "df.groupby('Product type')['Production volumes'].sum()"
   ]
  },
  {
   "cell_type": "code",
   "execution_count": 50,
   "id": "8bfaf943",
   "metadata": {},
   "outputs": [
    {
     "data": {
      "text/plain": [
       "Product type\n",
       "cosmetics    1343\n",
       "haircare     1480\n",
       "skincare     2099\n",
       "Name: Order quantities, dtype: int64"
      ]
     },
     "execution_count": 50,
     "metadata": {},
     "output_type": "execute_result"
    }
   ],
   "source": [
    "df.groupby('Product type')['Order quantities'].sum()"
   ]
  },
  {
   "cell_type": "code",
   "execution_count": 51,
   "id": "a96c48f7",
   "metadata": {},
   "outputs": [
    {
     "data": {
      "image/png": "[encoded data removed]",
      "text/plain": [
       "<Figure size 640x480 with 1 Axes>"
      ]
     },
     "metadata": {},
     "output_type": "display_data"
    }
   ],
   "source": [
    "prod_vol = [12461, 19957, 24366]\n",
    "order_quan = [1343, 1480, 2099]\n",
    "Product_Type = ['cosmetics', 'haircare', 'skincare']\n",
    "\n",
    "plt.bar(Product_Type, prod_vol, color='purple', linewidth=3, label='Production volume')\n",
    "plt.plot(Product_Type, order_quan, color='yellow', linewidth=3, label='Order quantity')\n",
    "plt.title('Production volume Vs Order quantity by Product types')\n",
    "plt.xlabel('Product Type')\n",
    "plt.legend(loc='upper left')\n",
    "plt.tight_layout() \n",
    "plt.style.use('fivethirtyeight')\n",
    "plt.show()"
   ]
  },
  {
   "cell_type": "code",
   "execution_count": 52,
   "id": "c2ed4ec1",
   "metadata": {},
   "outputs": [
    {
     "data": {
      "image/png": "[encoded data removed]",
      "text/plain": [
       "<Figure size 640x480 with 1 Axes>"
      ]
     },
     "metadata": {},
     "output_type": "display_data"
    }
   ],
   "source": [
    "#For more clarity on Order quantity shown above, we intend to visual this variable separately to gain more insight on Order quantity across each product type\n",
    "plt.barh(Product_Type, order_quan, color='yellow', linewidth=3, label='Order quantities')\n",
    "plt.title('Order quantity by Product Type')\n",
    "plt.ylabel('Product Type')\n",
    "plt.xlabel('Order Quantity')\n",
    "plt.tight_layout() \n",
    "plt.style.use('seaborn-v0_8-darkgrid')\n",
    "plt.show()"
   ]
  },
  {
   "cell_type": "markdown",
   "id": "e2356405",
   "metadata": {},
   "source": [
    "#### * How does production volume affect inspection results analysis by product type?"
   ]
  },
  {
   "cell_type": "code",
   "execution_count": 53,
   "id": "c0e52655",
   "metadata": {},
   "outputs": [
    {
     "data": {
      "text/plain": [
       "Inspection results\n",
       "Pending    41\n",
       "Fail       36\n",
       "Pass       23\n",
       "Name: count, dtype: int64"
      ]
     },
     "execution_count": 53,
     "metadata": {},
     "output_type": "execute_result"
    }
   ],
   "source": [
    "df['Inspection results'].value_counts()"
   ]
  },
  {
   "cell_type": "code",
   "execution_count": 110,
   "id": "769a5362",
   "metadata": {},
   "outputs": [
    {
     "data": {
      "image/png": "[encoded data removed]",
      "text/plain": [
       "<Figure size 640x480 with 1 Axes>"
      ]
     },
     "metadata": {},
     "output_type": "display_data"
    }
   ],
   "source": [
    "Inspection_results = [41, 36, 23]\n",
    "color = ['Yellow', 'Red', '#00B140']\n",
    "Inspection_fig = ['Pending','Fail','Pass']\n",
    "\n",
    "plt.pie(Inspection_results, labels=Inspection_fig, colors=color, autopct='%1.1f%%', startangle=90, wedgeprops={'edgecolor':'black'})\n",
    "plt.title('Inspection result analysis of products')\n",
    "plt.style.use('fivethirtyeight')\n",
    "plt.tight_layout()\n",
    "plt.show()"
   ]
  },
  {
   "cell_type": "code",
   "execution_count": 55,
   "id": "b891a8d7",
   "metadata": {},
   "outputs": [
    {
     "data": {
      "text/plain": [
       "Inspection results\n",
       "Fail       18853\n",
       "Pass       12607\n",
       "Pending    25324\n",
       "Name: Production volumes, dtype: int64"
      ]
     },
     "execution_count": 55,
     "metadata": {},
     "output_type": "execute_result"
    }
   ],
   "source": [
    "df.groupby('Inspection results')['Production volumes'].sum()"
   ]
  },
  {
   "cell_type": "code",
   "execution_count": 56,
   "id": "d01d828e",
   "metadata": {},
   "outputs": [
    {
     "data": {
      "text/plain": [
       "9303"
      ]
     },
     "execution_count": 56,
     "metadata": {},
     "output_type": "execute_result"
    }
   ],
   "source": [
    "#Haircare Inspection result analysis\n",
    "Pending_haircare = (df['Product type'] == 'haircare') & (df['Inspection results'] == 'Pending')\n",
    "Failed_haircare = (df['Product type'] == 'haircare') & (df['Inspection results'] == 'Fail')\n",
    "Passed_haircare = (df['Product type'] == 'haircare') & (df['Inspection results'] == 'Pass')\n",
    "df.loc[Pending_haircare,'Production volumes'].sum()"
   ]
  },
  {
   "cell_type": "code",
   "execution_count": 57,
   "id": "902278d2",
   "metadata": {},
   "outputs": [
    {
     "data": {
      "text/plain": [
       "7494"
      ]
     },
     "execution_count": 57,
     "metadata": {},
     "output_type": "execute_result"
    }
   ],
   "source": [
    "df.loc[Failed_haircare,'Production volumes'].sum()"
   ]
  },
  {
   "cell_type": "code",
   "execution_count": 58,
   "id": "287dc901",
   "metadata": {},
   "outputs": [
    {
     "data": {
      "text/plain": [
       "3160"
      ]
     },
     "execution_count": 58,
     "metadata": {},
     "output_type": "execute_result"
    }
   ],
   "source": [
    "df.loc[Passed_haircare,'Production volumes'].sum()"
   ]
  },
  {
   "cell_type": "code",
   "execution_count": 59,
   "id": "0f463fe9",
   "metadata": {},
   "outputs": [],
   "source": [
    "haircare_Inspection_result = [9303,7494,3160]\n",
    "haircare_result = ['Pending','Fail','Pass',]\n",
    "colors = ['Yellow','Red','Green']"
   ]
  },
  {
   "cell_type": "code",
   "execution_count": 60,
   "id": "80e52171",
   "metadata": {},
   "outputs": [
    {
     "data": {
      "image/png": "[encoded data removed]",
      "text/plain": [
       "<Figure size 640x480 with 1 Axes>"
      ]
     },
     "metadata": {},
     "output_type": "display_data"
    }
   ],
   "source": [
    "haircare_Inspection_result.reverse()\n",
    "haircare_result.reverse()\n",
    "colors.reverse()\n",
    "\n",
    "plt.barh(haircare_result, haircare_Inspection_result, color=colors)\n",
    "plt.title('Haircare Inspection Result')\n",
    "plt.style.use('fivethirtyeight')\n",
    "plt.tight_layout()\n",
    "plt.show()"
   ]
  },
  {
   "cell_type": "code",
   "execution_count": 61,
   "id": "baea92a4",
   "metadata": {},
   "outputs": [
    {
     "data": {
      "text/plain": [
       "10464"
      ]
     },
     "execution_count": 61,
     "metadata": {},
     "output_type": "execute_result"
    }
   ],
   "source": [
    "#Skincare inspection result analysis\n",
    "Pending_skincare = (df['Product type'] == 'skincare') & (df['Inspection results'] == 'Pending')\n",
    "Failed_skincare = (df['Product type'] == 'skincare') & (df['Inspection results'] == 'Fail')\n",
    "Passed_skincare = (df['Product type'] == 'skincare') & (df['Inspection results'] == 'Pass')\n",
    "df.loc[Pending_skincare,'Production volumes'].sum()"
   ]
  },
  {
   "cell_type": "code",
   "execution_count": 62,
   "id": "9c8144c9",
   "metadata": {},
   "outputs": [
    {
     "data": {
      "text/plain": [
       "7658"
      ]
     },
     "execution_count": 62,
     "metadata": {},
     "output_type": "execute_result"
    }
   ],
   "source": [
    "df.loc[Failed_skincare,'Production volumes'].sum()"
   ]
  },
  {
   "cell_type": "code",
   "execution_count": 63,
   "id": "88e84271",
   "metadata": {},
   "outputs": [
    {
     "data": {
      "text/plain": [
       "6244"
      ]
     },
     "execution_count": 63,
     "metadata": {},
     "output_type": "execute_result"
    }
   ],
   "source": [
    "df.loc[Passed_skincare,'Production volumes'].sum()"
   ]
  },
  {
   "cell_type": "code",
   "execution_count": 64,
   "id": "c013c4c2",
   "metadata": {},
   "outputs": [],
   "source": [
    "skincare_Inspection_result = [10464,7658,6244]\n",
    "skincare_result = ['Pending','Fail','Pass',]\n",
    "colors = ['Yellow','Red','Green']"
   ]
  },
  {
   "cell_type": "code",
   "execution_count": 65,
   "id": "515dfa05",
   "metadata": {},
   "outputs": [
    {
     "data": {
      "image/png": "[encoded data removed]",
      "text/plain": [
       "<Figure size 640x480 with 1 Axes>"
      ]
     },
     "metadata": {},
     "output_type": "display_data"
    }
   ],
   "source": [
    "skincare_Inspection_result.reverse()\n",
    "skincare_result.reverse()\n",
    "colors.reverse()\n",
    "\n",
    "plt.barh(skincare_result, skincare_Inspection_result, color=colors)\n",
    "plt.title('Skincare Inspection Result')\n",
    "plt.tight_layout()\n",
    "plt.show()"
   ]
  },
  {
   "cell_type": "code",
   "execution_count": 66,
   "id": "2760c3a2",
   "metadata": {},
   "outputs": [
    {
     "data": {
      "text/plain": [
       "5557"
      ]
     },
     "execution_count": 66,
     "metadata": {},
     "output_type": "execute_result"
    }
   ],
   "source": [
    "#Cosmetics Inspection result analysis\n",
    "Pending_cosmetics = (df['Product type'] == 'cosmetics') & (df['Inspection results'] == 'Pending')\n",
    "Failed_cosmetics = (df['Product type'] == 'cosmetics') & (df['Inspection results'] == 'Fail')\n",
    "Passed_cosmetics = (df['Product type'] == 'cosmetics') & (df['Inspection results'] == 'Pass')\n",
    "df.loc[Pending_cosmetics,'Production volumes'].sum()"
   ]
  },
  {
   "cell_type": "code",
   "execution_count": 67,
   "id": "d61aa69a",
   "metadata": {},
   "outputs": [
    {
     "data": {
      "text/plain": [
       "3701"
      ]
     },
     "execution_count": 67,
     "metadata": {},
     "output_type": "execute_result"
    }
   ],
   "source": [
    "df.loc[Failed_cosmetics,'Production volumes'].sum()"
   ]
  },
  {
   "cell_type": "code",
   "execution_count": 68,
   "id": "3959fea4",
   "metadata": {},
   "outputs": [
    {
     "data": {
      "text/plain": [
       "3203"
      ]
     },
     "execution_count": 68,
     "metadata": {},
     "output_type": "execute_result"
    }
   ],
   "source": [
    "df.loc[Passed_cosmetics,'Production volumes'].sum()"
   ]
  },
  {
   "cell_type": "code",
   "execution_count": 69,
   "id": "be432ac4",
   "metadata": {},
   "outputs": [],
   "source": [
    "cosmetics_Inspection_result = [5557,3701,3203]\n",
    "cosmetics_result = ['Pending','Fail','Pass',]\n",
    "colors = ['Yellow','Red','Green']"
   ]
  },
  {
   "cell_type": "code",
   "execution_count": 70,
   "id": "190013cd",
   "metadata": {},
   "outputs": [
    {
     "data": {
      "image/png": "[encoded data removed]",
      "text/plain": [
       "<Figure size 640x480 with 1 Axes>"
      ]
     },
     "metadata": {},
     "output_type": "display_data"
    }
   ],
   "source": [
    "cosmetics_Inspection_result.reverse()\n",
    "cosmetics_result.reverse()\n",
    "colors.reverse()\n",
    "\n",
    "plt.barh(cosmetics_result, cosmetics_Inspection_result, color=colors)\n",
    "plt.title('Cosmetics Inspection Result')\n",
    "plt.tight_layout()\n",
    "plt.show()"
   ]
  },
  {
   "cell_type": "markdown",
   "id": "c616add6",
   "metadata": {},
   "source": [
    "#### * How does average shipping cost compare to shipping time by location?"
   ]
  },
  {
   "cell_type": "code",
   "execution_count": 71,
   "id": "3ba07088",
   "metadata": {},
   "outputs": [],
   "source": [
    "Location = df.groupby('Location')"
   ]
  },
  {
   "cell_type": "code",
   "execution_count": 72,
   "id": "4c59c92a",
   "metadata": {},
   "outputs": [
    {
     "data": {
      "text/plain": [
       "Location\n",
       "Bangalore    5.277778\n",
       "Chennai      6.000000\n",
       "Delhi        5.933333\n",
       "Kolkata      5.960000\n",
       "Mumbai       5.545455\n",
       "Name: Shipping times, dtype: float64"
      ]
     },
     "execution_count": 72,
     "metadata": {},
     "output_type": "execute_result"
    }
   ],
   "source": [
    "Location['Shipping times'].mean()"
   ]
  },
  {
   "cell_type": "code",
   "execution_count": 73,
   "id": "7e3e16ac",
   "metadata": {},
   "outputs": [],
   "source": [
    "#Average Shipping times (DAY) across Locations\n",
    "Avg_Shipping_times = [5.277778,6.000000,5.933333,5.960000,5.545455]\n",
    "Locations =        ['Bangalore','Chennai','Delhi','Kolkata','Mumbai']"
   ]
  },
  {
   "cell_type": "code",
   "execution_count": 74,
   "id": "f8086ff9",
   "metadata": {},
   "outputs": [
    {
     "data": {
      "text/plain": [
       "Location\n",
       "Bangalore    5.748445\n",
       "Chennai      4.689079\n",
       "Delhi        5.069881\n",
       "Kolkata      5.761414\n",
       "Mumbai       6.248989\n",
       "Name: Shipping costs, dtype: float64"
      ]
     },
     "execution_count": 74,
     "metadata": {},
     "output_type": "execute_result"
    }
   ],
   "source": [
    "Location['Shipping costs'].mean()"
   ]
  },
  {
   "cell_type": "code",
   "execution_count": 75,
   "id": "7b4fe8c5",
   "metadata": {},
   "outputs": [],
   "source": [
    "#Cost of average shipping across Locations\n",
    "Avg_Shipping_costs = [5.748445, 4.689079, 5.069881, 5.761414, 6.248989]\n",
    "Locations =          ['Bangalore','Chennai','Delhi','Kolkata','Mumbai']"
   ]
  },
  {
   "cell_type": "code",
   "execution_count": 76,
   "id": "82ef47c0",
   "metadata": {},
   "outputs": [
    {
     "data": {
      "image/png": "[encoded data removed]",
      "text/plain": [
       "<Figure size 640x480 with 1 Axes>"
      ]
     },
     "metadata": {},
     "output_type": "display_data"
    }
   ],
   "source": [
    "plt.bar(Locations, Avg_Shipping_costs, color='purple', label='Avg Shipping cost')\n",
    "plt.plot(Locations, Avg_Shipping_times, color='yellow', label='Avg shipping time(DAY)')\n",
    "plt.title('Avg Shipping costs ($) Vs Avg Shipping time by Location')\n",
    "plt.ylabel('Cost($) & Time (Day)')\n",
    "plt.xlabel('Location')\n",
    "plt.legend(loc='upper left')\n",
    "plt.style.use('seaborn-v0_8-darkgrid')\n",
    "plt.tight_layout()\n",
    "plt.show()"
   ]
  },
  {
   "cell_type": "markdown",
   "id": "88d940db",
   "metadata": {},
   "source": [
    "#### * How does average shipping time compare to average defect rate by transportation mode?"
   ]
  },
  {
   "cell_type": "code",
   "execution_count": 77,
   "id": "88ad692a",
   "metadata": {},
   "outputs": [],
   "source": [
    "Transportation_mode = df.groupby('Transportation modes')"
   ]
  },
  {
   "cell_type": "code",
   "execution_count": 78,
   "id": "dbe2f6db",
   "metadata": {},
   "outputs": [
    {
     "data": {
      "text/plain": [
       "Transportation modes\n",
       "Air     5.115385\n",
       "Rail    6.571429\n",
       "Road    4.724138\n",
       "Sea     7.117647\n",
       "Name: Shipping times, dtype: float64"
      ]
     },
     "execution_count": 78,
     "metadata": {},
     "output_type": "execute_result"
    }
   ],
   "source": [
    "Transportation_mode['Shipping times'].mean()"
   ]
  },
  {
   "cell_type": "code",
   "execution_count": 79,
   "id": "6c03b625",
   "metadata": {},
   "outputs": [],
   "source": [
    "#Average shipping times (DAY) by transportation modes\n",
    "Avg_Shipping_time_by_TM = [5.115385, 6.571429, 4.724138, 7.117647] \n",
    "Transportation_modes_TM =      ['Air',  'Rail',   'Road',  'Sea']"
   ]
  },
  {
   "cell_type": "code",
   "execution_count": 80,
   "id": "22bba87c",
   "metadata": {},
   "outputs": [
    {
     "data": {
      "text/plain": [
       "Transportation modes\n",
       "Air     1.823924\n",
       "Rail    2.318814\n",
       "Road    2.620938\n",
       "Sea     2.315281\n",
       "Name: Defect rates, dtype: float64"
      ]
     },
     "execution_count": 80,
     "metadata": {},
     "output_type": "execute_result"
    }
   ],
   "source": [
    "Transportation_mode['Defect rates'].mean()"
   ]
  },
  {
   "cell_type": "code",
   "execution_count": 81,
   "id": "e4200269",
   "metadata": {},
   "outputs": [],
   "source": [
    "#Average defect rates by transportation modes\n",
    "Avg_Defect_rates_by_TM = [1.823924, 2.318814, 2.620938, 2.315281]  \n",
    "Transportation_modes_TM = ['Air',   'Rail'   ,'Road',   'Sea']"
   ]
  },
  {
   "cell_type": "code",
   "execution_count": 82,
   "id": "e105b755",
   "metadata": {},
   "outputs": [
    {
     "data": {
      "image/png": "[encoded data removed]",
      "text/plain": [
       "<Figure size 640x480 with 1 Axes>"
      ]
     },
     "metadata": {},
     "output_type": "display_data"
    }
   ],
   "source": [
    "plt.bar(Transportation_modes_TM, Avg_Shipping_time_by_TM, color='purple', label='Avg shipping time(DAY)')\n",
    "plt.plot(Transportation_modes_TM, Avg_Defect_rates_by_TM, color='red', label='Avg Defect rate')\n",
    "plt.title('Avg Shipping times(Day) Vs Defect rates by Transportation mode')\n",
    "plt.ylabel('Time(Day) and Defect rate')\n",
    "plt.legend(loc='upper left')\n",
    "plt.xlabel('Transportation Mode')\n",
    "plt.style.use('seaborn-v0_8-darkgrid')\n",
    "plt.tight_layout()\n",
    "plt.show()"
   ]
  },
  {
   "cell_type": "markdown",
   "id": "0f24d591",
   "metadata": {},
   "source": [
    "#### * How does average shipping cost compare to average shipping time by shipping carrier?\n",
    " "
   ]
  },
  {
   "cell_type": "code",
   "execution_count": 83,
   "id": "1b2a88ec",
   "metadata": {},
   "outputs": [],
   "source": [
    "Shipping_carriers = df.groupby('Shipping carriers')"
   ]
  },
  {
   "cell_type": "code",
   "execution_count": 84,
   "id": "c3b7dac9",
   "metadata": {},
   "outputs": [
    {
     "data": {
      "text/plain": [
       "Shipping carriers\n",
       "Carrier A    5.554923\n",
       "Carrier B    5.509247\n",
       "Carrier C    5.599292\n",
       "Name: Shipping costs, dtype: float64"
      ]
     },
     "execution_count": 84,
     "metadata": {},
     "output_type": "execute_result"
    }
   ],
   "source": [
    "Shipping_carriers['Shipping costs'].mean()"
   ]
  },
  {
   "cell_type": "code",
   "execution_count": 85,
   "id": "05e00d77",
   "metadata": {},
   "outputs": [],
   "source": [
    "#Average cost of shipping across Carriers\n",
    "Avg_Shipping_cost_by_carriers = [5.554923,5.509247,5.599292] \n",
    "shipping_carriers =           ['Carrier A','Carrier B','Carrier C']"
   ]
  },
  {
   "cell_type": "code",
   "execution_count": 86,
   "id": "0ce1eb9b",
   "metadata": {},
   "outputs": [
    {
     "data": {
      "text/plain": [
       "Shipping carriers\n",
       "Carrier A    6.142857\n",
       "Carrier B    5.302326\n",
       "Carrier C    6.034483\n",
       "Name: Shipping times, dtype: float64"
      ]
     },
     "execution_count": 86,
     "metadata": {},
     "output_type": "execute_result"
    }
   ],
   "source": [
    "Shipping_carriers['Shipping times'].mean()"
   ]
  },
  {
   "cell_type": "code",
   "execution_count": 87,
   "id": "0c8a7a7b",
   "metadata": {},
   "outputs": [],
   "source": [
    "#Average shipping times (DAY) across Carriers\n",
    "Avg_Shipping_times_by_carriers = [6.142857,5.302326,6.034483]\n",
    "shipping_carriers =           ['Carrier A','Carrier B','Carrier C']"
   ]
  },
  {
   "cell_type": "code",
   "execution_count": 88,
   "id": "8c1fcc6b",
   "metadata": {},
   "outputs": [
    {
     "data": {
      "image/png": "[encoded data removed]",
      "text/plain": [
       "<Figure size 640x480 with 1 Axes>"
      ]
     },
     "metadata": {},
     "output_type": "display_data"
    }
   ],
   "source": [
    "plt.bar(shipping_carriers, Avg_Shipping_cost_by_carriers, color='purple', label='Shipping cost')\n",
    "plt.plot(shipping_carriers, Avg_Shipping_times_by_carriers, color='yellow', label='Shipping time')\n",
    "plt.title('Avg Shipping cost Vs Avg Shipping times(Day) by Carriers')\n",
    "plt.ylabel('Cost($) and Time(Day)')\n",
    "plt.legend(loc='upper left')\n",
    "plt.xlabel('Carrier')\n",
    "plt.style.use('seaborn-v0_8-darkgrid')\n",
    "plt.tight_layout()\n",
    "plt.show()"
   ]
  },
  {
   "cell_type": "markdown",
   "id": "7bbfe3c4",
   "metadata": {},
   "source": [
    "#### * How does average shipping cost vary by transportation mode and route?"
   ]
  },
  {
   "cell_type": "code",
   "execution_count": 89,
   "id": "861fcfbe",
   "metadata": {},
   "outputs": [
    {
     "data": {
      "text/plain": [
       "array(['Route B', 'Route C', 'Route A'], dtype=object)"
      ]
     },
     "execution_count": 89,
     "metadata": {},
     "output_type": "execute_result"
    }
   ],
   "source": [
    "#List of Shipping Routes\n",
    "df['Routes'].unique()"
   ]
  },
  {
   "cell_type": "code",
   "execution_count": 90,
   "id": "49130606",
   "metadata": {},
   "outputs": [
    {
     "data": {
      "text/plain": [
       "7.05503543909091"
      ]
     },
     "execution_count": 90,
     "metadata": {},
     "output_type": "execute_result"
    }
   ],
   "source": [
    "#Route A costs of shipping by Transportation modes\n",
    "RouteA_Air = (df['Routes'] == 'Route A') & (df['Transportation modes'] == 'Air')\n",
    "df.loc[RouteA_Air,'Shipping costs'].mean()"
   ]
  },
  {
   "cell_type": "code",
   "execution_count": 91,
   "id": "f9602847",
   "metadata": {},
   "outputs": [
    {
     "data": {
      "text/plain": [
       "4.6665306565"
      ]
     },
     "execution_count": 91,
     "metadata": {},
     "output_type": "execute_result"
    }
   ],
   "source": [
    "RouteA_Rail = (df['Routes'] == 'Route A') & (df['Transportation modes'] == 'Rail')\n",
    "df.loc[RouteA_Rail,'Shipping costs'].mean()"
   ]
  },
  {
   "cell_type": "code",
   "execution_count": 92,
   "id": "a3efa282",
   "metadata": {},
   "outputs": [
    {
     "data": {
      "text/plain": [
       "5.613352809636364"
      ]
     },
     "execution_count": 92,
     "metadata": {},
     "output_type": "execute_result"
    }
   ],
   "source": [
    "RouteA_Road = (df['Routes'] == 'Route A') & (df['Transportation modes'] == 'Road')\n",
    "df.loc[RouteA_Road,'Shipping costs'].mean()"
   ]
  },
  {
   "cell_type": "code",
   "execution_count": 93,
   "id": "e22255fa",
   "metadata": {},
   "outputs": [
    {
     "data": {
      "text/plain": [
       "3.8061948855714287"
      ]
     },
     "execution_count": 93,
     "metadata": {},
     "output_type": "execute_result"
    }
   ],
   "source": [
    "RouteA_Sea = (df['Routes'] == 'Route A') & (df['Transportation modes'] == 'Sea')\n",
    "df.loc[RouteA_Sea,'Shipping costs'].mean()"
   ]
  },
  {
   "cell_type": "code",
   "execution_count": 94,
   "id": "b4be9777",
   "metadata": {},
   "outputs": [],
   "source": [
    "RouteA_costs_of_shipping = [7.05503, 4.6665, 5.6133, 3.8061]\n",
    "RouteA_Transportation_modes = ['Air', 'Rail', 'Road', 'Sea']"
   ]
  },
  {
   "cell_type": "code",
   "execution_count": 95,
   "id": "a609af7b",
   "metadata": {},
   "outputs": [
    {
     "data": {
      "image/png": "[encoded data removed]",
      "text/plain": [
       "<Figure size 640x480 with 1 Axes>"
      ]
     },
     "metadata": {},
     "output_type": "display_data"
    }
   ],
   "source": [
    "plt.bar(RouteA_Transportation_modes, RouteA_costs_of_shipping)\n",
    "plt.title('Route A costs of shipping by Transportation modes')\n",
    "plt.xlabel('Transportation modes')\n",
    "plt.ylabel('Cost of shipping($)')\n",
    "plt.show()"
   ]
  },
  {
   "cell_type": "code",
   "execution_count": 96,
   "id": "44009cae",
   "metadata": {},
   "outputs": [
    {
     "data": {
      "text/plain": [
       "5.2694388515714286"
      ]
     },
     "execution_count": 96,
     "metadata": {},
     "output_type": "execute_result"
    }
   ],
   "source": [
    "#Route B costs of shipping by Transportation modes\n",
    "RouteB_Air = (df['Routes'] == 'Route B') & (df['Transportation modes'] == 'Air')\n",
    "df.loc[RouteB_Air,'Shipping costs'].mean()"
   ]
  },
  {
   "cell_type": "code",
   "execution_count": 97,
   "id": "70b55dea",
   "metadata": {},
   "outputs": [
    {
     "data": {
      "text/plain": [
       "6.270496526"
      ]
     },
     "execution_count": 97,
     "metadata": {},
     "output_type": "execute_result"
    }
   ],
   "source": [
    "RouteB_Rail = (df['Routes'] == 'Route B') & (df['Transportation modes'] == 'Rail')\n",
    "df.loc[RouteB_Rail,'Shipping costs'].mean()"
   ]
  },
  {
   "cell_type": "code",
   "execution_count": 98,
   "id": "9efe01a1",
   "metadata": {},
   "outputs": [
    {
     "data": {
      "text/plain": [
       "5.5311586763846154"
      ]
     },
     "execution_count": 98,
     "metadata": {},
     "output_type": "execute_result"
    }
   ],
   "source": [
    "RouteB_Road = (df['Routes'] == 'Route B') & (df['Transportation modes'] == 'Road')\n",
    "df.loc[RouteB_Road,'Shipping costs'].mean()"
   ]
  },
  {
   "cell_type": "code",
   "execution_count": 99,
   "id": "845180cb",
   "metadata": {},
   "outputs": [
    {
     "data": {
      "text/plain": [
       "4.609479660833332"
      ]
     },
     "execution_count": 99,
     "metadata": {},
     "output_type": "execute_result"
    }
   ],
   "source": [
    "RouteB_Sea = (df['Routes'] == 'Route B') & (df['Transportation modes'] == 'Sea')\n",
    "df.loc[RouteB_Sea,'Shipping costs'].mean()"
   ]
  },
  {
   "cell_type": "code",
   "execution_count": 100,
   "id": "99d0e3a3",
   "metadata": {},
   "outputs": [],
   "source": [
    "RouteB_costs_of_shipping = [5.2694, 6.2704, 5.5311, 4.6094]\n",
    "RouteB_Transportation_modes = ['Air', 'Rail', 'Road', 'Sea']"
   ]
  },
  {
   "cell_type": "code",
   "execution_count": 101,
   "id": "ace8b3ec",
   "metadata": {},
   "outputs": [
    {
     "data": {
      "image/png": "[encoded data removed]",
      "text/plain": [
       "<Figure size 640x480 with 1 Axes>"
      ]
     },
     "metadata": {},
     "output_type": "display_data"
    }
   ],
   "source": [
    "plt.bar(RouteB_Transportation_modes, RouteB_costs_of_shipping)\n",
    "plt.title('Route B costs of shipping by Transportation modes')\n",
    "plt.xlabel('Transportation modes')\n",
    "plt.ylabel('Cost of shipping($)')\n",
    "plt.show()"
   ]
  },
  {
   "cell_type": "code",
   "execution_count": 102,
   "id": "b7ac5ebd",
   "metadata": {},
   "outputs": [
    {
     "data": {
      "text/plain": [
       "5.2465452536249995"
      ]
     },
     "execution_count": 102,
     "metadata": {},
     "output_type": "execute_result"
    }
   ],
   "source": [
    "#Route C costs of shipping by Transportation modes\n",
    "RouteC_Air = (df['Routes'] == 'Route C') & (df['Transportation modes'] == 'Air')\n",
    "df.loc[RouteC_Air,'Shipping costs'].mean()"
   ]
  },
  {
   "cell_type": "code",
   "execution_count": 103,
   "id": "d3402a46",
   "metadata": {},
   "outputs": [
    {
     "data": {
      "text/plain": [
       "6.2759504113333335"
      ]
     },
     "execution_count": 103,
     "metadata": {},
     "output_type": "execute_result"
    }
   ],
   "source": [
    "RouteC_Rail = (df['Routes'] == 'Route C') & (df['Transportation modes'] == 'Rail')\n",
    "df.loc[RouteC_Rail,'Shipping costs'].mean()"
   ]
  },
  {
   "cell_type": "code",
   "execution_count": 104,
   "id": "1dfd0c25",
   "metadata": {},
   "outputs": [
    {
     "data": {
      "text/plain": [
       "5.4138805221999995"
      ]
     },
     "execution_count": 104,
     "metadata": {},
     "output_type": "execute_result"
    }
   ],
   "source": [
    "RouteC_Road = (df['Routes'] == 'Route C') & (df['Transportation modes'] == 'Road')\n",
    "df.loc[RouteC_Road,'Shipping costs'].mean()"
   ]
  },
  {
   "cell_type": "code",
   "execution_count": 105,
   "id": "1ff73476",
   "metadata": {},
   "outputs": [
    {
     "data": {
      "text/plain": [
       "7.54868817375"
      ]
     },
     "execution_count": 105,
     "metadata": {},
     "output_type": "execute_result"
    }
   ],
   "source": [
    "RouteC_Sea = (df['Routes'] == 'Route C') & (df['Transportation modes'] == 'Sea')\n",
    "df.loc[RouteC_Sea,'Shipping costs'].mean()"
   ]
  },
  {
   "cell_type": "code",
   "execution_count": 106,
   "id": "5aaa1a96",
   "metadata": {},
   "outputs": [],
   "source": [
    "RouteC_costs_of_shipping = [5.2465, 6.2759, 5.4138, 7.5486]\n",
    "RouteC_Transportation_modes = ['Air', 'Rail', 'Road', 'Sea']"
   ]
  },
  {
   "cell_type": "code",
   "execution_count": 107,
   "id": "14c56fd9",
   "metadata": {},
   "outputs": [
    {
     "data": {
      "image/png": "[encoded data removed]",
      "text/plain": [
       "<Figure size 640x480 with 1 Axes>"
      ]
     },
     "metadata": {},
     "output_type": "display_data"
    }
   ],
   "source": [
    "plt.bar(RouteC_Transportation_modes, RouteC_costs_of_shipping)\n",
    "plt.title('Route C costs of shipping by Transportation modes')\n",
    "plt.xlabel('Transportation modes')\n",
    "plt.ylabel('Cost of shipping($)')\n",
    "plt.show()"
   ]
  },
  {
   "cell_type": "markdown",
   "id": "e8985058",
   "metadata": {},
   "source": [
    "### Based on the comprehensive supply chain analysis, here are the overall key findings, conclusion, and recommendations:\n",
    "## Key Findings"
   ]
  },
  {
   "cell_type": "markdown",
   "id": "5d610168",
   "metadata": {},
   "source": [
    "\n",
    "1. Product Sales: Skincare generates the highest revenue, followed by haircare and cosmetics.\n",
    "2. Location-wise Performance: Bangalore, Chennai, and Mumbai are top-performing locations in terms of revenue.\n",
    "3. Customer Demographics: Female customers contribute significantly to revenue across locations.\n",
    "4. Inventory Management: Skincare has the highest inventory turnover ratio, indicating efficient management.\n",
    "5. Inspection Results: Skincare has the highest pass rate, while haircare has the highest pending rate.\n",
    "6. Shipping: Road transportation has the shortest shipping time (4.7 days), while air transportation has the lowest defect rate (1.8%).\n",
    "7. Carrier Selection: Carrier B offers faster shipping times (5 days).\n",
    "8. Cost-Effective Routes: Route A by Sea (3.8 Dollars) and Route B by Air (5.2 Dollars) and Sea (4.7 Dollars) offer competitive pricing."
   ]
  },
  {
   "cell_type": "markdown",
   "id": "48c71c82",
   "metadata": {},
   "source": [
    "## Recommendation"
   ]
  },
  {
   "cell_type": "markdown",
   "id": "be3e1841",
   "metadata": {},
   "source": [
    "\n",
    "1. Optimize Inventory Management: Implement a just-in-time inventory system to reduce costs and improve efficiency.\n",
    "2. Enhance Quality Control: Implement additional quality control measures to reduce pending inspection results, particularly for haircare products.\n",
    "3. Targeted Marketing: Focus marketing efforts on female customers, who contribute significantly to revenue.\n",
    "4. Shipping Cost Reduction: Negotiate with shipping carriers to reduce costs, particularly for Mumbai.\n",
    "5. Carrier Selection and Route Optimization: Analyze and optimize routes to reduce shipping costs and times, and consider using Carrier B for faster shipping times.\n",
    "6. Invest in Data Analytics: Continuously monitor and analyze supply chain data to identify areas for improvement and optimize operations.\n",
    "7. Develop a Supply Chain Risk Management Plan: Identify potential risks and develop mitigation strategies to ensure business continuity and minimize disruptions."
   ]
  },
  {
   "cell_type": "markdown",
   "id": "68247ff7",
   "metadata": {},
   "source": [
    "## Conclusion"
   ]
  },
  {
   "cell_type": "markdown",
   "id": "6dede9f0",
   "metadata": {},
   "source": [
    "\n",
    "The comprehensive supply chain analysis provides valuable insights into the strengths and weaknesses of the current supply chain operations. Key areas for improvement include optimizing inventory management, enhancing quality control, reducing shipping costs and times, and improving carrier selection and route optimization.\n",
    "\n",
    "#### Data Analyst: Reuben Yohanna Vandi\n"
   ]
  }
 ],
 "metadata": {
  "kernelspec": {
   "display_name": "Python 3 (ipykernel)",
   "language": "python",
   "name": "python3"
  },
  "language_info": {
   "codemirror_mode": {
    "name": "ipython",
    "version": 3
   },
   "file_extension": ".py",
   "mimetype": "text/x-python",
   "name": "python",
   "nbconvert_exporter": "python",
   "pygments_lexer": "ipython3",
   "version": "3.11.5"
  }
 },
 "nbformat": 4,
 "nbformat_minor": 5
}
