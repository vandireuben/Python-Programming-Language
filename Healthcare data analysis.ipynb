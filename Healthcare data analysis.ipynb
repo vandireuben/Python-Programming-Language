{
 "cells": [
  {
   "cell_type": "markdown",
   "id": "4d0736c9",
   "metadata": {},
   "source": [
    "##### Healthcare Data Analyst: Reuben Yohanna Vandi\n",
    "\n",
    "--------------------------------------------------------------------------------------------------------------------------\n",
    "\n",
    "# Analyzing the Impact of Physical Activity and Body Composition on Cardiorespiratory Fitness\n",
    "\n",
    "## Problem Statement:\n",
    "Despite growing awareness of lifestyle-related health risks, many individuals still suffer from poor cardiorespiratory fitness (CRF), a key predictor of chronic disease and mortality. This project explores how physical activity, body composition (height and weight), and other factors influence VO2 max levels. The goal is to identify patterns and risk indicators to support better health decisions and preventive care.\n",
    "\n",
    "----------------------------------------------------------------------------------------------------------------------------\n",
    "\n",
    "## Objectives:\n",
    "\n",
    "1. Are there notable differences in fitness levels and health indicators between males and females?\n",
    "\n",
    "2. Does engaging in regular physical exercise lead to significantly better fitness levels and overall health outcomes compared to not exercising?\n",
    "\n",
    "3. Is there a meaningful correlation between mental health and physical health scores among individuals?\n",
    "\n",
    "4. What is the relationship between Body Mass Index (BMI) and cardiorespiratory fitness (VO₂ Max)?\n",
    "\n",
    "5. How do physical health scores vary across different BMI classifications (underweight, normal, overweight, obese)?\n",
    "\n",
    "6. Is there an association between gender and the likelihood of engaging in regular physical exercise?\n",
    "--------------------------------------------------------------------------------------------------------------------------\n",
    "\n",
    " ## Step by Step Data Analysis Workflow:\n",
    "1. Data Collection: Load dataset from Excel into analysis tool\n",
    " \n",
    "2. Data Exploration: View column names, data types, and to use summary functions like describe, with the purpose to understand what the data looks like and spot patterns or anomalies.\n",
    " \n",
    "3. Data Cleaning: Handle missing values (drop, fill, or impute), fix incorrect data types, remove duplicates or unrealistic values with the purpose to improve data quality to ensure accurate analysis.\n",
    " \n",
    "4. Feature Engineering: Create new variables, convert categorical variables if needed (e.g label encoding for chi-square), with the purpose to add useful information that can improve insights or predictions.\n",
    "\n",
    "5. Descriptive Statistics (Univariate & Bivariate): Calculate means, medians, ranges, and standard deviations. Group by Gender or ExerciseReg and compare VO₂ max and to Visualize, with the purpose to summarize and compare variables to describe the population.\n",
    "\n",
    "6. Inferential Statistics (Hypothesis Testing): T-tests, ANOVA, correlation analysis, report p-values and statistical significance, with the purpose to determine whether observed patterns are likely real or due to chance.\n",
    "\n",
    "8. Interpretation of Results: Translate statistical findings into plain language, highlight key relationships and surprising discoveries, with the purpose to make the data meaningful to non-technical stakeholders."
   ]
  },
  {
   "cell_type": "markdown",
   "id": "8bd7c15a",
   "metadata": {},
   "source": [
    "### Data Collection\n",
    "This is the first step where we load the dataset (Excel file) into a Jupyter Notebook, so we can begin working with it. Without this, no analysis is possible."
   ]
  },
  {
   "cell_type": "code",
   "execution_count": 1,
   "id": "b05f6e6a",
   "metadata": {},
   "outputs": [],
   "source": [
    "import numpy as np\n",
    "import pandas as pd\n",
    "import seaborn as sns\n",
    "import scipy.stats as stats\n",
    "import statsmodels.api as sm\n",
    "import matplotlib.pyplot as plt\n",
    "from sklearn.cluster import KMeans\n",
    "from sklearn.preprocessing import LabelEncoder"
   ]
  },
  {
   "cell_type": "code",
   "execution_count": 2,
   "id": "075b0801",
   "metadata": {},
   "outputs": [
    {
     "data": {
      "text/html": [
       "<div>\n",
       "<style scoped>\n",
       "    .dataframe tbody tr th:only-of-type {\n",
       "        vertical-align: middle;\n",
       "    }\n",
       "\n",
       "    .dataframe tbody tr th {\n",
       "        vertical-align: top;\n",
       "    }\n",
       "\n",
       "    .dataframe thead th {\n",
       "        text-align: right;\n",
       "    }\n",
       "</style>\n",
       "<table border=\"1\" class=\"dataframe\">\n",
       "  <thead>\n",
       "    <tr style=\"text-align: right;\">\n",
       "      <th></th>\n",
       "      <th>Gender</th>\n",
       "      <th>Height</th>\n",
       "      <th>Weight</th>\n",
       "      <th>MH_Score</th>\n",
       "      <th>ExerciseReg</th>\n",
       "      <th>vo2max</th>\n",
       "    </tr>\n",
       "    <tr>\n",
       "      <th>ID</th>\n",
       "      <th></th>\n",
       "      <th></th>\n",
       "      <th></th>\n",
       "      <th></th>\n",
       "      <th></th>\n",
       "      <th></th>\n",
       "    </tr>\n",
       "  </thead>\n",
       "  <tbody>\n",
       "    <tr>\n",
       "      <th>15</th>\n",
       "      <td>Male</td>\n",
       "      <td>1.62</td>\n",
       "      <td>43.27</td>\n",
       "      <td>37.48</td>\n",
       "      <td>Exercise Regularly</td>\n",
       "      <td>48.33</td>\n",
       "    </tr>\n",
       "    <tr>\n",
       "      <th>61</th>\n",
       "      <td>Male</td>\n",
       "      <td>1.62</td>\n",
       "      <td>43.72</td>\n",
       "      <td>32.86</td>\n",
       "      <td>Exercise Regularly</td>\n",
       "      <td>52.32</td>\n",
       "    </tr>\n",
       "    <tr>\n",
       "      <th>30</th>\n",
       "      <td>Female</td>\n",
       "      <td>1.56</td>\n",
       "      <td>41.73</td>\n",
       "      <td>43.58</td>\n",
       "      <td>Exercise Regularly</td>\n",
       "      <td>46.31</td>\n",
       "    </tr>\n",
       "    <tr>\n",
       "      <th>77</th>\n",
       "      <td>Male</td>\n",
       "      <td>1.62</td>\n",
       "      <td>47.28</td>\n",
       "      <td>38.65</td>\n",
       "      <td>Exercise Regularly</td>\n",
       "      <td>56.60</td>\n",
       "    </tr>\n",
       "    <tr>\n",
       "      <th>38</th>\n",
       "      <td>Female</td>\n",
       "      <td>1.52</td>\n",
       "      <td>42.04</td>\n",
       "      <td>38.26</td>\n",
       "      <td>Exercise Regularly</td>\n",
       "      <td>52.08</td>\n",
       "    </tr>\n",
       "    <tr>\n",
       "      <th>...</th>\n",
       "      <td>...</td>\n",
       "      <td>...</td>\n",
       "      <td>...</td>\n",
       "      <td>...</td>\n",
       "      <td>...</td>\n",
       "      <td>...</td>\n",
       "    </tr>\n",
       "    <tr>\n",
       "      <th>5</th>\n",
       "      <td>Female</td>\n",
       "      <td>1.52</td>\n",
       "      <td>66.02</td>\n",
       "      <td>44.71</td>\n",
       "      <td>Doesn't Exercise Regularly</td>\n",
       "      <td>55.47</td>\n",
       "    </tr>\n",
       "    <tr>\n",
       "      <th>35</th>\n",
       "      <td>Male</td>\n",
       "      <td>1.55</td>\n",
       "      <td>64.11</td>\n",
       "      <td>37.86</td>\n",
       "      <td>Doesn't Exercise Regularly</td>\n",
       "      <td>48.23</td>\n",
       "    </tr>\n",
       "    <tr>\n",
       "      <th>5</th>\n",
       "      <td>Male</td>\n",
       "      <td>1.54</td>\n",
       "      <td>82.96</td>\n",
       "      <td>48.35</td>\n",
       "      <td>Exercise Regularly</td>\n",
       "      <td>37.79</td>\n",
       "    </tr>\n",
       "    <tr>\n",
       "      <th>45</th>\n",
       "      <td>Male</td>\n",
       "      <td>1.46</td>\n",
       "      <td>58.46</td>\n",
       "      <td>32.55</td>\n",
       "      <td>Exercise Regularly</td>\n",
       "      <td>63.78</td>\n",
       "    </tr>\n",
       "    <tr>\n",
       "      <th>55</th>\n",
       "      <td>Female</td>\n",
       "      <td>1.49</td>\n",
       "      <td>67.59</td>\n",
       "      <td>45.27</td>\n",
       "      <td>Doesn't Exercise Regularly</td>\n",
       "      <td>61.05</td>\n",
       "    </tr>\n",
       "  </tbody>\n",
       "</table>\n",
       "<p>100 rows × 6 columns</p>\n",
       "</div>"
      ],
      "text/plain": [
       "    Gender  Height  Weight  MH_Score                 ExerciseReg  vo2max\n",
       "ID                                                                      \n",
       "15    Male    1.62   43.27     37.48          Exercise Regularly   48.33\n",
       "61    Male    1.62   43.72     32.86          Exercise Regularly   52.32\n",
       "30  Female    1.56   41.73     43.58          Exercise Regularly   46.31\n",
       "77    Male    1.62   47.28     38.65          Exercise Regularly   56.60\n",
       "38  Female    1.52   42.04     38.26          Exercise Regularly   52.08\n",
       "..     ...     ...     ...       ...                         ...     ...\n",
       "5   Female    1.52   66.02     44.71  Doesn't Exercise Regularly   55.47\n",
       "35    Male    1.55   64.11     37.86  Doesn't Exercise Regularly   48.23\n",
       "5     Male    1.54   82.96     48.35          Exercise Regularly   37.79\n",
       "45    Male    1.46   58.46     32.55          Exercise Regularly   63.78\n",
       "55  Female    1.49   67.59     45.27  Doesn't Exercise Regularly   61.05\n",
       "\n",
       "[100 rows x 6 columns]"
      ]
     },
     "execution_count": 2,
     "metadata": {},
     "output_type": "execute_result"
    }
   ],
   "source": [
    "df = pd.read_excel(r\"C:\\Users\\Reuben Yohanna Vandi\\Documents\\Research Ana with Python\\Research  Analysis SPSS & Excel\\materials\\healthcare_dataset.xlsx\", index_col='ID')\n",
    "df"
   ]
  },
  {
   "cell_type": "markdown",
   "id": "cfaa64d5",
   "metadata": {},
   "source": [
    "### Data Exploration\n",
    "Here, we take a quick tour of the data. We examine data types, summarize the data to understand trends, detect outliers and irregularities, and identify null and duplicate values."
   ]
  },
  {
   "cell_type": "code",
   "execution_count": 3,
   "id": "3c7f99d2",
   "metadata": {},
   "outputs": [
    {
     "data": {
      "text/plain": [
       "(100, 6)"
      ]
     },
     "execution_count": 3,
     "metadata": {},
     "output_type": "execute_result"
    }
   ],
   "source": [
    "df.shape"
   ]
  },
  {
   "cell_type": "code",
   "execution_count": 4,
   "id": "c654663a",
   "metadata": {},
   "outputs": [
    {
     "name": "stdout",
     "output_type": "stream",
     "text": [
      "<class 'pandas.core.frame.DataFrame'>\n",
      "Index: 100 entries, 15 to 55\n",
      "Data columns (total 6 columns):\n",
      " #   Column       Non-Null Count  Dtype  \n",
      "---  ------       --------------  -----  \n",
      " 0   Gender       96 non-null     object \n",
      " 1   Height       99 non-null     float64\n",
      " 2   Weight       98 non-null     float64\n",
      " 3   MH_Score     99 non-null     float64\n",
      " 4   ExerciseReg  100 non-null    object \n",
      " 5   vo2max       100 non-null    float64\n",
      "dtypes: float64(4), object(2)\n",
      "memory usage: 5.5+ KB\n"
     ]
    }
   ],
   "source": [
    "df.info()"
   ]
  },
  {
   "cell_type": "code",
   "execution_count": 5,
   "id": "00da4b37",
   "metadata": {},
   "outputs": [
    {
     "data": {
      "text/plain": [
       "Gender         4\n",
       "Height         1\n",
       "Weight         2\n",
       "MH_Score       1\n",
       "ExerciseReg    0\n",
       "vo2max         0\n",
       "dtype: int64"
      ]
     },
     "execution_count": 5,
     "metadata": {},
     "output_type": "execute_result"
    }
   ],
   "source": [
    "#Total sum of NULL values\n",
    "df.isnull().sum()"
   ]
  },
  {
   "cell_type": "code",
   "execution_count": 6,
   "id": "dbbdecf6",
   "metadata": {},
   "outputs": [
    {
     "data": {
      "text/plain": [
       "ID\n",
       "15    False\n",
       "61    False\n",
       "30    False\n",
       "77    False\n",
       "38    False\n",
       "      ...  \n",
       "5     False\n",
       "35    False\n",
       "5     False\n",
       "45    False\n",
       "55    False\n",
       "Length: 100, dtype: bool"
      ]
     },
     "execution_count": 6,
     "metadata": {},
     "output_type": "execute_result"
    }
   ],
   "source": [
    "df.duplicated()"
   ]
  },
  {
   "cell_type": "code",
   "execution_count": 7,
   "id": "a044d3ee",
   "metadata": {},
   "outputs": [
    {
     "name": "stdout",
     "output_type": "stream",
     "text": [
      "Height: 0 outliers\n",
      "Weight: 0 outliers\n",
      "MH_Score: 0 outliers\n",
      "vo2max: 0 outliers\n"
     ]
    }
   ],
   "source": [
    "#Detecting Outliers in Numerical Columns Using IQR (Interquartile Range)\n",
    "\n",
    "numerical_cols = df.select_dtypes(include=['number']).columns\n",
    "\n",
    "for col in numerical_cols:\n",
    "    Q1 = df[col].quantile(0.25)\n",
    "    Q3 = df[col].quantile(0.75)\n",
    "    IQR = Q3 - Q1\n",
    "    lower_bound = Q1 - 1.5 * IQR\n",
    "    upper_bound = Q3 + 1.5 * IQR\n",
    "    outliers = df[(df[col] < lower_bound) | (df[col] > upper_bound)]\n",
    "    \n",
    "    print(f\"{col}: {len(outliers)} outliers\")"
   ]
  },
  {
   "cell_type": "markdown",
   "id": "02a6c3dd",
   "metadata": {},
   "source": [
    "### Data Cleaning\n",
    "Real world data often contains issues like missing values, incorrect entries, or duplicates. Cleaning the data ensures our results are based on accurate and complete information by addressing null values, duplicate values, outliers, and irregularities."
   ]
  },
  {
   "cell_type": "code",
   "execution_count": 8,
   "id": "887d9b8d",
   "metadata": {},
   "outputs": [
    {
     "data": {
      "text/plain": [
       "Gender         0\n",
       "Height         0\n",
       "Weight         0\n",
       "MH_Score       0\n",
       "ExerciseReg    0\n",
       "vo2max         0\n",
       "dtype: int64"
      ]
     },
     "execution_count": 8,
     "metadata": {},
     "output_type": "execute_result"
    }
   ],
   "source": [
    "#Addressing NULL values\n",
    "\n",
    "columns = df.columns\n",
    "\n",
    "for col in columns:\n",
    "    if pd.api.types.is_numeric_dtype(df[col]):\n",
    "        df[col] = df[col].fillna(df[col].median())\n",
    "    else:\n",
    "        # For non-numeric columns, fill with the most frequent value (mode)\n",
    "        df[col] = df[col].fillna(df[col].mode()[0])\n",
    "df.isnull().sum()"
   ]
  },
  {
   "cell_type": "markdown",
   "id": "a684d0fe",
   "metadata": {},
   "source": [
    "### Feature Engineering \n",
    "This step involves creating new, informative variables and transforming categorical variables. This process enhances the data's utility and prepares it for deeper analysis or prediction."
   ]
  },
  {
   "cell_type": "code",
   "execution_count": 9,
   "id": "243e2638",
   "metadata": {},
   "outputs": [
    {
     "data": {
      "text/html": [
       "<div>\n",
       "<style scoped>\n",
       "    .dataframe tbody tr th:only-of-type {\n",
       "        vertical-align: middle;\n",
       "    }\n",
       "\n",
       "    .dataframe tbody tr th {\n",
       "        vertical-align: top;\n",
       "    }\n",
       "\n",
       "    .dataframe thead th {\n",
       "        text-align: right;\n",
       "    }\n",
       "</style>\n",
       "<table border=\"1\" class=\"dataframe\">\n",
       "  <thead>\n",
       "    <tr style=\"text-align: right;\">\n",
       "      <th></th>\n",
       "      <th>Gender</th>\n",
       "      <th>Height</th>\n",
       "      <th>Weight</th>\n",
       "      <th>MH_Score</th>\n",
       "      <th>ExerciseReg</th>\n",
       "      <th>vo2max</th>\n",
       "      <th>BMI</th>\n",
       "      <th>BMI_Group</th>\n",
       "    </tr>\n",
       "    <tr>\n",
       "      <th>ID</th>\n",
       "      <th></th>\n",
       "      <th></th>\n",
       "      <th></th>\n",
       "      <th></th>\n",
       "      <th></th>\n",
       "      <th></th>\n",
       "      <th></th>\n",
       "      <th></th>\n",
       "    </tr>\n",
       "  </thead>\n",
       "  <tbody>\n",
       "    <tr>\n",
       "      <th>15</th>\n",
       "      <td>Male</td>\n",
       "      <td>1.62</td>\n",
       "      <td>43.27</td>\n",
       "      <td>37.48</td>\n",
       "      <td>Exercise Regularly</td>\n",
       "      <td>48.33</td>\n",
       "      <td>16.487578</td>\n",
       "      <td>Underweight</td>\n",
       "    </tr>\n",
       "    <tr>\n",
       "      <th>61</th>\n",
       "      <td>Male</td>\n",
       "      <td>1.62</td>\n",
       "      <td>43.72</td>\n",
       "      <td>32.86</td>\n",
       "      <td>Exercise Regularly</td>\n",
       "      <td>52.32</td>\n",
       "      <td>16.659046</td>\n",
       "      <td>Underweight</td>\n",
       "    </tr>\n",
       "    <tr>\n",
       "      <th>30</th>\n",
       "      <td>Female</td>\n",
       "      <td>1.56</td>\n",
       "      <td>41.73</td>\n",
       "      <td>43.58</td>\n",
       "      <td>Exercise Regularly</td>\n",
       "      <td>46.31</td>\n",
       "      <td>17.147436</td>\n",
       "      <td>Underweight</td>\n",
       "    </tr>\n",
       "    <tr>\n",
       "      <th>77</th>\n",
       "      <td>Male</td>\n",
       "      <td>1.62</td>\n",
       "      <td>47.28</td>\n",
       "      <td>38.65</td>\n",
       "      <td>Exercise Regularly</td>\n",
       "      <td>56.60</td>\n",
       "      <td>18.015546</td>\n",
       "      <td>Underweight</td>\n",
       "    </tr>\n",
       "    <tr>\n",
       "      <th>38</th>\n",
       "      <td>Female</td>\n",
       "      <td>1.52</td>\n",
       "      <td>42.04</td>\n",
       "      <td>38.26</td>\n",
       "      <td>Exercise Regularly</td>\n",
       "      <td>52.08</td>\n",
       "      <td>18.195983</td>\n",
       "      <td>Underweight</td>\n",
       "    </tr>\n",
       "  </tbody>\n",
       "</table>\n",
       "</div>"
      ],
      "text/plain": [
       "    Gender  Height  Weight  MH_Score         ExerciseReg  vo2max        BMI  \\\n",
       "ID                                                                            \n",
       "15    Male    1.62   43.27     37.48  Exercise Regularly   48.33  16.487578   \n",
       "61    Male    1.62   43.72     32.86  Exercise Regularly   52.32  16.659046   \n",
       "30  Female    1.56   41.73     43.58  Exercise Regularly   46.31  17.147436   \n",
       "77    Male    1.62   47.28     38.65  Exercise Regularly   56.60  18.015546   \n",
       "38  Female    1.52   42.04     38.26  Exercise Regularly   52.08  18.195983   \n",
       "\n",
       "      BMI_Group  \n",
       "ID               \n",
       "15  Underweight  \n",
       "61  Underweight  \n",
       "30  Underweight  \n",
       "77  Underweight  \n",
       "38  Underweight  "
      ]
     },
     "execution_count": 9,
     "metadata": {},
     "output_type": "execute_result"
    }
   ],
   "source": [
    "# Add a new column for BMI\n",
    "df['BMI'] = df['Weight'] / (df['Height'] ** 2)\n",
    "\n",
    "     # Create BMI categories\n",
    "# Define the boundaries for the BMI groups\n",
    "bins = [0, 18.5, 24.9, 29.9, np.inf]\n",
    "\n",
    "# Define labels for each group\n",
    "labels = ['Underweight', 'Normal', 'Overweight', 'Obese']\n",
    "\n",
    "# Add a new column for BMI group\n",
    "df['BMI_Group'] = pd.cut(df['BMI'], bins=bins, labels=labels, right=False)\n",
    "\n",
    "# Check the result\n",
    "df.head()"
   ]
  },
  {
   "cell_type": "code",
   "execution_count": 10,
   "id": "a5cfd8cd",
   "metadata": {},
   "outputs": [
    {
     "data": {
      "text/html": [
       "<div>\n",
       "<style scoped>\n",
       "    .dataframe tbody tr th:only-of-type {\n",
       "        vertical-align: middle;\n",
       "    }\n",
       "\n",
       "    .dataframe tbody tr th {\n",
       "        vertical-align: top;\n",
       "    }\n",
       "\n",
       "    .dataframe thead th {\n",
       "        text-align: right;\n",
       "    }\n",
       "</style>\n",
       "<table border=\"1\" class=\"dataframe\">\n",
       "  <thead>\n",
       "    <tr style=\"text-align: right;\">\n",
       "      <th></th>\n",
       "      <th>Height</th>\n",
       "      <th>Weight</th>\n",
       "      <th>MH_Score</th>\n",
       "      <th>vo2max</th>\n",
       "      <th>BMI</th>\n",
       "      <th>BMI_Group</th>\n",
       "      <th>Gender_encoded</th>\n",
       "      <th>ExerciseReg_encoded</th>\n",
       "    </tr>\n",
       "    <tr>\n",
       "      <th>ID</th>\n",
       "      <th></th>\n",
       "      <th></th>\n",
       "      <th></th>\n",
       "      <th></th>\n",
       "      <th></th>\n",
       "      <th></th>\n",
       "      <th></th>\n",
       "      <th></th>\n",
       "    </tr>\n",
       "  </thead>\n",
       "  <tbody>\n",
       "    <tr>\n",
       "      <th>15</th>\n",
       "      <td>1.62</td>\n",
       "      <td>43.27</td>\n",
       "      <td>37.48</td>\n",
       "      <td>48.33</td>\n",
       "      <td>16.487578</td>\n",
       "      <td>Underweight</td>\n",
       "      <td>1</td>\n",
       "      <td>1</td>\n",
       "    </tr>\n",
       "    <tr>\n",
       "      <th>61</th>\n",
       "      <td>1.62</td>\n",
       "      <td>43.72</td>\n",
       "      <td>32.86</td>\n",
       "      <td>52.32</td>\n",
       "      <td>16.659046</td>\n",
       "      <td>Underweight</td>\n",
       "      <td>1</td>\n",
       "      <td>1</td>\n",
       "    </tr>\n",
       "    <tr>\n",
       "      <th>30</th>\n",
       "      <td>1.56</td>\n",
       "      <td>41.73</td>\n",
       "      <td>43.58</td>\n",
       "      <td>46.31</td>\n",
       "      <td>17.147436</td>\n",
       "      <td>Underweight</td>\n",
       "      <td>0</td>\n",
       "      <td>1</td>\n",
       "    </tr>\n",
       "    <tr>\n",
       "      <th>77</th>\n",
       "      <td>1.62</td>\n",
       "      <td>47.28</td>\n",
       "      <td>38.65</td>\n",
       "      <td>56.60</td>\n",
       "      <td>18.015546</td>\n",
       "      <td>Underweight</td>\n",
       "      <td>1</td>\n",
       "      <td>1</td>\n",
       "    </tr>\n",
       "    <tr>\n",
       "      <th>38</th>\n",
       "      <td>1.52</td>\n",
       "      <td>42.04</td>\n",
       "      <td>38.26</td>\n",
       "      <td>52.08</td>\n",
       "      <td>18.195983</td>\n",
       "      <td>Underweight</td>\n",
       "      <td>0</td>\n",
       "      <td>1</td>\n",
       "    </tr>\n",
       "  </tbody>\n",
       "</table>\n",
       "</div>"
      ],
      "text/plain": [
       "    Height  Weight  MH_Score  vo2max        BMI    BMI_Group  Gender_encoded  \\\n",
       "ID                                                                             \n",
       "15    1.62   43.27     37.48   48.33  16.487578  Underweight               1   \n",
       "61    1.62   43.72     32.86   52.32  16.659046  Underweight               1   \n",
       "30    1.56   41.73     43.58   46.31  17.147436  Underweight               0   \n",
       "77    1.62   47.28     38.65   56.60  18.015546  Underweight               1   \n",
       "38    1.52   42.04     38.26   52.08  18.195983  Underweight               0   \n",
       "\n",
       "    ExerciseReg_encoded  \n",
       "ID                       \n",
       "15                    1  \n",
       "61                    1  \n",
       "30                    1  \n",
       "77                    1  \n",
       "38                    1  "
      ]
     },
     "execution_count": 10,
     "metadata": {},
     "output_type": "execute_result"
    }
   ],
   "source": [
    "le = LabelEncoder()\n",
    "TransData = df.copy()\n",
    "TransData['Gender_encoded'] = le.fit_transform(TransData['Gender'])\n",
    "TransData['ExerciseReg_encoded'] = le.fit_transform(TransData['ExerciseReg'])\n",
    "TransData = TransData.drop(['Gender', 'ExerciseReg'], axis=1)\n",
    "TransData.head()"
   ]
  },
  {
   "cell_type": "markdown",
   "id": "6c46bbf3",
   "metadata": {},
   "source": [
    "### Descriptive Statistics (Univariate & Bivariate) \n",
    "We calculate summary statistics like mean, maximum, and minimum values for each column. Then, we compare groups, such as males vs females or exercisers vs non-exercisers. This helps us understand the data's characteristics and relationships."
   ]
  },
  {
   "cell_type": "code",
   "execution_count": 11,
   "id": "bcbd4777",
   "metadata": {},
   "outputs": [
    {
     "data": {
      "text/html": [
       "<div>\n",
       "<style scoped>\n",
       "    .dataframe tbody tr th:only-of-type {\n",
       "        vertical-align: middle;\n",
       "    }\n",
       "\n",
       "    .dataframe tbody tr th {\n",
       "        vertical-align: top;\n",
       "    }\n",
       "\n",
       "    .dataframe thead th {\n",
       "        text-align: right;\n",
       "    }\n",
       "</style>\n",
       "<table border=\"1\" class=\"dataframe\">\n",
       "  <thead>\n",
       "    <tr style=\"text-align: right;\">\n",
       "      <th></th>\n",
       "      <th>Height</th>\n",
       "      <th>Weight</th>\n",
       "      <th>MH_Score</th>\n",
       "      <th>vo2max</th>\n",
       "      <th>BMI</th>\n",
       "    </tr>\n",
       "  </thead>\n",
       "  <tbody>\n",
       "    <tr>\n",
       "      <th>count</th>\n",
       "      <td>100.00000</td>\n",
       "      <td>100.000000</td>\n",
       "      <td>100.000000</td>\n",
       "      <td>100.00000</td>\n",
       "      <td>100.000000</td>\n",
       "    </tr>\n",
       "    <tr>\n",
       "      <th>mean</th>\n",
       "      <td>1.65580</td>\n",
       "      <td>70.930200</td>\n",
       "      <td>39.342400</td>\n",
       "      <td>48.29970</td>\n",
       "      <td>26.088349</td>\n",
       "    </tr>\n",
       "    <tr>\n",
       "      <th>std</th>\n",
       "      <td>0.13316</td>\n",
       "      <td>17.797037</td>\n",
       "      <td>5.777419</td>\n",
       "      <td>8.54146</td>\n",
       "      <td>6.861838</td>\n",
       "    </tr>\n",
       "    <tr>\n",
       "      <th>min</th>\n",
       "      <td>1.45000</td>\n",
       "      <td>40.140000</td>\n",
       "      <td>30.510000</td>\n",
       "      <td>35.14000</td>\n",
       "      <td>13.559371</td>\n",
       "    </tr>\n",
       "    <tr>\n",
       "      <th>25%</th>\n",
       "      <td>1.54000</td>\n",
       "      <td>57.912500</td>\n",
       "      <td>34.125000</td>\n",
       "      <td>40.18250</td>\n",
       "      <td>20.385373</td>\n",
       "    </tr>\n",
       "    <tr>\n",
       "      <th>50%</th>\n",
       "      <td>1.63000</td>\n",
       "      <td>70.060000</td>\n",
       "      <td>39.100000</td>\n",
       "      <td>48.28000</td>\n",
       "      <td>25.960587</td>\n",
       "    </tr>\n",
       "    <tr>\n",
       "      <th>75%</th>\n",
       "      <td>1.78000</td>\n",
       "      <td>88.182500</td>\n",
       "      <td>44.445000</td>\n",
       "      <td>55.69750</td>\n",
       "      <td>30.953107</td>\n",
       "    </tr>\n",
       "    <tr>\n",
       "      <th>max</th>\n",
       "      <td>1.90000</td>\n",
       "      <td>99.870000</td>\n",
       "      <td>49.620000</td>\n",
       "      <td>63.78000</td>\n",
       "      <td>47.500595</td>\n",
       "    </tr>\n",
       "  </tbody>\n",
       "</table>\n",
       "</div>"
      ],
      "text/plain": [
       "          Height      Weight    MH_Score     vo2max         BMI\n",
       "count  100.00000  100.000000  100.000000  100.00000  100.000000\n",
       "mean     1.65580   70.930200   39.342400   48.29970   26.088349\n",
       "std      0.13316   17.797037    5.777419    8.54146    6.861838\n",
       "min      1.45000   40.140000   30.510000   35.14000   13.559371\n",
       "25%      1.54000   57.912500   34.125000   40.18250   20.385373\n",
       "50%      1.63000   70.060000   39.100000   48.28000   25.960587\n",
       "75%      1.78000   88.182500   44.445000   55.69750   30.953107\n",
       "max      1.90000   99.870000   49.620000   63.78000   47.500595"
      ]
     },
     "execution_count": 11,
     "metadata": {},
     "output_type": "execute_result"
    }
   ],
   "source": [
    "# descriptive analysis of numerical columns\n",
    "df.describe()"
   ]
  },
  {
   "cell_type": "code",
   "execution_count": 12,
   "id": "9f98f649",
   "metadata": {},
   "outputs": [
    {
     "data": {
      "text/plain": [
       "Gender\n",
       "Female    60\n",
       "Male      40\n",
       "Name: count, dtype: int64"
      ]
     },
     "execution_count": 12,
     "metadata": {},
     "output_type": "execute_result"
    }
   ],
   "source": [
    "# descriptive analysis of categorical columns: Gender\n",
    "df['Gender'].value_counts()"
   ]
  },
  {
   "cell_type": "code",
   "execution_count": 13,
   "id": "e0bf7ba1",
   "metadata": {},
   "outputs": [
    {
     "data": {
      "text/plain": [
       "ExerciseReg\n",
       "Doesn't Exercise Regularly    52\n",
       "Exercise Regularly            48\n",
       "Name: count, dtype: int64"
      ]
     },
     "execution_count": 13,
     "metadata": {},
     "output_type": "execute_result"
    }
   ],
   "source": [
    "# descriptive analysis of categorical columns: ExerciseReg\n",
    "df['ExerciseReg'].value_counts()"
   ]
  },
  {
   "cell_type": "markdown",
   "id": "91852808",
   "metadata": {},
   "source": [
    "#### Bivariate Descriptive Analysis"
   ]
  },
  {
   "cell_type": "code",
   "execution_count": 14,
   "id": "2bcce3bc",
   "metadata": {},
   "outputs": [
    {
     "data": {
      "text/html": [
       "<div>\n",
       "<style scoped>\n",
       "    .dataframe tbody tr th:only-of-type {\n",
       "        vertical-align: middle;\n",
       "    }\n",
       "\n",
       "    .dataframe tbody tr th {\n",
       "        vertical-align: top;\n",
       "    }\n",
       "\n",
       "    .dataframe thead th {\n",
       "        text-align: right;\n",
       "    }\n",
       "</style>\n",
       "<table border=\"1\" class=\"dataframe\">\n",
       "  <thead>\n",
       "    <tr style=\"text-align: right;\">\n",
       "      <th></th>\n",
       "      <th>Avg_height</th>\n",
       "    </tr>\n",
       "    <tr>\n",
       "      <th>Gender</th>\n",
       "      <th></th>\n",
       "    </tr>\n",
       "  </thead>\n",
       "  <tbody>\n",
       "    <tr>\n",
       "      <th>Female</th>\n",
       "      <td>1.638333</td>\n",
       "    </tr>\n",
       "    <tr>\n",
       "      <th>Male</th>\n",
       "      <td>1.682000</td>\n",
       "    </tr>\n",
       "  </tbody>\n",
       "</table>\n",
       "</div>"
      ],
      "text/plain": [
       "        Avg_height\n",
       "Gender            \n",
       "Female    1.638333\n",
       "Male      1.682000"
      ]
     },
     "execution_count": 14,
     "metadata": {},
     "output_type": "execute_result"
    }
   ],
   "source": [
    "# Height by Gender\n",
    "df.groupby(['Gender']).agg(Avg_height = ('Height','mean'))"
   ]
  },
  {
   "cell_type": "code",
   "execution_count": 15,
   "id": "d6f7bd89",
   "metadata": {},
   "outputs": [
    {
     "data": {
      "image/png": "[encoded data removed]",
      "text/plain": [
       "<Figure size 640x480 with 1 Axes>"
      ]
     },
     "metadata": {},
     "output_type": "display_data"
    }
   ],
   "source": [
    "# Height by Gender barchart\n",
    "sns.barplot(x='Gender', y='Height', data=df, estimator=np.mean)\n",
    "plt.title(\"Average Height by Gender\")\n",
    "plt.ylabel(\"Avg Height\")\n",
    "plt.xlabel(\"Gender\")\n",
    "plt.show()"
   ]
  },
  {
   "cell_type": "code",
   "execution_count": 16,
   "id": "e0094673",
   "metadata": {},
   "outputs": [
    {
     "data": {
      "text/html": [
       "<div>\n",
       "<style scoped>\n",
       "    .dataframe tbody tr th:only-of-type {\n",
       "        vertical-align: middle;\n",
       "    }\n",
       "\n",
       "    .dataframe tbody tr th {\n",
       "        vertical-align: top;\n",
       "    }\n",
       "\n",
       "    .dataframe thead th {\n",
       "        text-align: right;\n",
       "    }\n",
       "</style>\n",
       "<table border=\"1\" class=\"dataframe\">\n",
       "  <thead>\n",
       "    <tr style=\"text-align: right;\">\n",
       "      <th></th>\n",
       "      <th>Avg_weight</th>\n",
       "    </tr>\n",
       "    <tr>\n",
       "      <th>Gender</th>\n",
       "      <th></th>\n",
       "    </tr>\n",
       "  </thead>\n",
       "  <tbody>\n",
       "    <tr>\n",
       "      <th>Female</th>\n",
       "      <td>70.121667</td>\n",
       "    </tr>\n",
       "    <tr>\n",
       "      <th>Male</th>\n",
       "      <td>72.143000</td>\n",
       "    </tr>\n",
       "  </tbody>\n",
       "</table>\n",
       "</div>"
      ],
      "text/plain": [
       "        Avg_weight\n",
       "Gender            \n",
       "Female   70.121667\n",
       "Male     72.143000"
      ]
     },
     "execution_count": 16,
     "metadata": {},
     "output_type": "execute_result"
    }
   ],
   "source": [
    "# Weight by Gender\n",
    "df.groupby(['Gender']).agg(Avg_weight = ('Weight','mean'))"
   ]
  },
  {
   "cell_type": "code",
   "execution_count": 17,
   "id": "38827e52",
   "metadata": {},
   "outputs": [
    {
     "data": {
      "image/png": "[encoded data removed]",
      "text/plain": [
       "<Figure size 640x480 with 1 Axes>"
      ]
     },
     "metadata": {},
     "output_type": "display_data"
    }
   ],
   "source": [
    "# Bar chart of average weight by gender\n",
    "sns.barplot(x='Gender', y='Weight', data=df, estimator=np.mean)\n",
    "\n",
    "# Add title and axis labels\n",
    "plt.title('Average Weight by Gender')\n",
    "plt.xlabel('Gender')\n",
    "plt.ylabel('Avg Weight')\n",
    "\n",
    "# Show the plot\n",
    "plt.show()"
   ]
  },
  {
   "cell_type": "markdown",
   "id": "13fbd54c",
   "metadata": {},
   "source": [
    "#### 1. Are there notable differences in fitness levels and health indicators between males and females?"
   ]
  },
  {
   "cell_type": "code",
   "execution_count": 18,
   "id": "8960dbcc",
   "metadata": {},
   "outputs": [
    {
     "data": {
      "text/html": [
       "<div>\n",
       "<style scoped>\n",
       "    .dataframe tbody tr th:only-of-type {\n",
       "        vertical-align: middle;\n",
       "    }\n",
       "\n",
       "    .dataframe tbody tr th {\n",
       "        vertical-align: top;\n",
       "    }\n",
       "\n",
       "    .dataframe thead th {\n",
       "        text-align: right;\n",
       "    }\n",
       "</style>\n",
       "<table border=\"1\" class=\"dataframe\">\n",
       "  <thead>\n",
       "    <tr style=\"text-align: right;\">\n",
       "      <th></th>\n",
       "      <th>mean_MHS</th>\n",
       "    </tr>\n",
       "    <tr>\n",
       "      <th>Gender</th>\n",
       "      <th></th>\n",
       "    </tr>\n",
       "  </thead>\n",
       "  <tbody>\n",
       "    <tr>\n",
       "      <th>Female</th>\n",
       "      <td>39.607833</td>\n",
       "    </tr>\n",
       "    <tr>\n",
       "      <th>Male</th>\n",
       "      <td>38.944250</td>\n",
       "    </tr>\n",
       "  </tbody>\n",
       "</table>\n",
       "</div>"
      ],
      "text/plain": [
       "         mean_MHS\n",
       "Gender           \n",
       "Female  39.607833\n",
       "Male    38.944250"
      ]
     },
     "execution_count": 18,
     "metadata": {},
     "output_type": "execute_result"
    }
   ],
   "source": [
    "# Mental health score by Gender\n",
    "df.groupby(['Gender']).agg(mean_MHS = ('MH_Score','mean'))"
   ]
  },
  {
   "cell_type": "code",
   "execution_count": 19,
   "id": "04cab1a2",
   "metadata": {},
   "outputs": [
    {
     "data": {
      "image/png": "[encoded data removed]",
      "text/plain": [
       "<Figure size 640x480 with 1 Axes>"
      ]
     },
     "metadata": {},
     "output_type": "display_data"
    }
   ],
   "source": [
    "# Bar chart: Mental Health score by Gender\n",
    "sns.barplot(x='Gender', y='MH_Score', data=df, estimator=np.mean)\n",
    "\n",
    "# Add titles and labels\n",
    "plt.title('Average Mental Health Score by Gender')\n",
    "plt.xlabel('Gender')\n",
    "plt.ylabel('Mean Mental Health Score')\n",
    "\n",
    "# Show the plot\n",
    "plt.show()"
   ]
  },
  {
   "cell_type": "code",
   "execution_count": 20,
   "id": "7bd95385",
   "metadata": {},
   "outputs": [
    {
     "data": {
      "text/html": [
       "<div>\n",
       "<style scoped>\n",
       "    .dataframe tbody tr th:only-of-type {\n",
       "        vertical-align: middle;\n",
       "    }\n",
       "\n",
       "    .dataframe tbody tr th {\n",
       "        vertical-align: top;\n",
       "    }\n",
       "\n",
       "    .dataframe thead th {\n",
       "        text-align: right;\n",
       "    }\n",
       "</style>\n",
       "<table border=\"1\" class=\"dataframe\">\n",
       "  <thead>\n",
       "    <tr style=\"text-align: right;\">\n",
       "      <th></th>\n",
       "      <th>mean_PHS</th>\n",
       "    </tr>\n",
       "    <tr>\n",
       "      <th>Gender</th>\n",
       "      <th></th>\n",
       "    </tr>\n",
       "  </thead>\n",
       "  <tbody>\n",
       "    <tr>\n",
       "      <th>Female</th>\n",
       "      <td>48.58500</td>\n",
       "    </tr>\n",
       "    <tr>\n",
       "      <th>Male</th>\n",
       "      <td>47.87175</td>\n",
       "    </tr>\n",
       "  </tbody>\n",
       "</table>\n",
       "</div>"
      ],
      "text/plain": [
       "        mean_PHS\n",
       "Gender          \n",
       "Female  48.58500\n",
       "Male    47.87175"
      ]
     },
     "execution_count": 20,
     "metadata": {},
     "output_type": "execute_result"
    }
   ],
   "source": [
    "# Physical Health Score (PHS) by Gender\n",
    "df.groupby(['Gender']).agg(mean_PHS = ('vo2max','mean'))"
   ]
  },
  {
   "cell_type": "code",
   "execution_count": 21,
   "id": "df3fa3e2",
   "metadata": {},
   "outputs": [
    {
     "data": {
      "image/png": "[encoded data removed]",
      "text/plain": [
       "<Figure size 640x480 with 1 Axes>"
      ]
     },
     "metadata": {},
     "output_type": "display_data"
    }
   ],
   "source": [
    "# Bar chart: Physical Health Score (vo2max) by Gender\n",
    "sns.barplot(x='Gender', y='vo2max', data=df, estimator=np.mean)\n",
    "\n",
    "# Add labels and title\n",
    "plt.title('Average Physical Health Score by Gender')\n",
    "plt.xlabel('Gender')\n",
    "plt.ylabel('Mean VO₂ Max')\n",
    "\n",
    "plt.show()"
   ]
  },
  {
   "cell_type": "markdown",
   "id": "74e2aae0",
   "metadata": {},
   "source": [
    "#### 2. Does engaging in regular physical exercise lead to significantly better fitness levels and overall health outcomes compared to not exercising?"
   ]
  },
  {
   "cell_type": "code",
   "execution_count": 22,
   "id": "e71e95c9",
   "metadata": {},
   "outputs": [
    {
     "data": {
      "text/html": [
       "<div>\n",
       "<style scoped>\n",
       "    .dataframe tbody tr th:only-of-type {\n",
       "        vertical-align: middle;\n",
       "    }\n",
       "\n",
       "    .dataframe tbody tr th {\n",
       "        vertical-align: top;\n",
       "    }\n",
       "\n",
       "    .dataframe thead th {\n",
       "        text-align: right;\n",
       "    }\n",
       "</style>\n",
       "<table border=\"1\" class=\"dataframe\">\n",
       "  <thead>\n",
       "    <tr style=\"text-align: right;\">\n",
       "      <th></th>\n",
       "      <th>mean_PHS</th>\n",
       "    </tr>\n",
       "    <tr>\n",
       "      <th>ExerciseReg</th>\n",
       "      <th></th>\n",
       "    </tr>\n",
       "  </thead>\n",
       "  <tbody>\n",
       "    <tr>\n",
       "      <th>Doesn't Exercise Regularly</th>\n",
       "      <td>47.363462</td>\n",
       "    </tr>\n",
       "    <tr>\n",
       "      <th>Exercise Regularly</th>\n",
       "      <td>49.313958</td>\n",
       "    </tr>\n",
       "  </tbody>\n",
       "</table>\n",
       "</div>"
      ],
      "text/plain": [
       "                             mean_PHS\n",
       "ExerciseReg                          \n",
       "Doesn't Exercise Regularly  47.363462\n",
       "Exercise Regularly          49.313958"
      ]
     },
     "execution_count": 22,
     "metadata": {},
     "output_type": "execute_result"
    }
   ],
   "source": [
    "# Physical Health Score (\"vo2max\"-maximum amount of oxygen your body can use during intense exercise) by Exercise status\n",
    "df.groupby(['ExerciseReg']).agg(mean_PHS = ('vo2max','mean'))"
   ]
  },
  {
   "cell_type": "code",
   "execution_count": 23,
   "id": "3a808fc8",
   "metadata": {},
   "outputs": [
    {
     "data": {
      "image/png": "[encoded data removed]",
      "text/plain": [
       "<Figure size 640x480 with 1 Axes>"
      ]
     },
     "metadata": {},
     "output_type": "display_data"
    }
   ],
   "source": [
    "# Bar chart: Physical Health Score (VO2max) by Exercise Status\n",
    "sns.barplot(x='ExerciseReg', y='vo2max', data=df, estimator=np.mean)\n",
    "\n",
    "# Add labels and formatting\n",
    "plt.title('Average Physical Health Score by Exercise Status')\n",
    "plt.xlabel('Exercise Status')\n",
    "plt.ylabel('Mean VO₂ Max')\n",
    "plt.show()"
   ]
  },
  {
   "cell_type": "code",
   "execution_count": 24,
   "id": "62233252",
   "metadata": {},
   "outputs": [
    {
     "data": {
      "text/html": [
       "<div>\n",
       "<style scoped>\n",
       "    .dataframe tbody tr th:only-of-type {\n",
       "        vertical-align: middle;\n",
       "    }\n",
       "\n",
       "    .dataframe tbody tr th {\n",
       "        vertical-align: top;\n",
       "    }\n",
       "\n",
       "    .dataframe thead th {\n",
       "        text-align: right;\n",
       "    }\n",
       "</style>\n",
       "<table border=\"1\" class=\"dataframe\">\n",
       "  <thead>\n",
       "    <tr style=\"text-align: right;\">\n",
       "      <th></th>\n",
       "      <th>mean_MHS</th>\n",
       "    </tr>\n",
       "    <tr>\n",
       "      <th>ExerciseReg</th>\n",
       "      <th></th>\n",
       "    </tr>\n",
       "  </thead>\n",
       "  <tbody>\n",
       "    <tr>\n",
       "      <th>Doesn't Exercise Regularly</th>\n",
       "      <td>39.695192</td>\n",
       "    </tr>\n",
       "    <tr>\n",
       "      <th>Exercise Regularly</th>\n",
       "      <td>38.960208</td>\n",
       "    </tr>\n",
       "  </tbody>\n",
       "</table>\n",
       "</div>"
      ],
      "text/plain": [
       "                             mean_MHS\n",
       "ExerciseReg                          \n",
       "Doesn't Exercise Regularly  39.695192\n",
       "Exercise Regularly          38.960208"
      ]
     },
     "execution_count": 24,
     "metadata": {},
     "output_type": "execute_result"
    }
   ],
   "source": [
    "# Mental Health Score by Exercise status\n",
    "df.groupby(['ExerciseReg']).agg(mean_MHS = ('MH_Score','mean'))"
   ]
  },
  {
   "cell_type": "code",
   "execution_count": 25,
   "id": "f32344e7",
   "metadata": {},
   "outputs": [
    {
     "data": {
      "image/png": "[encoded data removed]",
      "text/plain": [
       "<Figure size 640x480 with 1 Axes>"
      ]
     },
     "metadata": {},
     "output_type": "display_data"
    }
   ],
   "source": [
    "# Bar chart: Mental Health Score by Exercise Status\n",
    "sns.barplot(x='ExerciseReg', y='MH_Score', data=df, estimator=np.mean)\n",
    "\n",
    "# Add labels and title\n",
    "plt.title('Average Mental Health Score by Exercise Status')\n",
    "plt.xlabel('Exercise Status')\n",
    "plt.ylabel('Mean Mental Health Score')\n",
    "\n",
    "plt.show()"
   ]
  },
  {
   "cell_type": "markdown",
   "id": "9b92614d",
   "metadata": {},
   "source": [
    "### Inferential Statistics (Hypothesis Testing)\n",
    "We test whether observed patterns are statistically significant or due to chance. Using statistical tools like t-tests or correlation tests, we determine the likelihood of these patterns being real, giving us confidence in our findings."
   ]
  },
  {
   "cell_type": "markdown",
   "id": "2292bf97",
   "metadata": {},
   "source": [
    "#### Research Question 3. Is there a meaningful correlation between mental health (MH_Score) and physical health scores (VO2max) among individuals?"
   ]
  },
  {
   "cell_type": "code",
   "execution_count": 26,
   "id": "445df7df",
   "metadata": {},
   "outputs": [
    {
     "name": "stderr",
     "output_type": "stream",
     "text": [
      "C:\\ProgramData\\anaconda3\\Lib\\site-packages\\seaborn\\axisgrid.py:118: UserWarning: The figure layout has changed to tight\n",
      "  self._figure.tight_layout(*args, **kwargs)\n"
     ]
    },
    {
     "data": {
      "image/png": "[encoded data removed]",
      "text/plain": [
       "<Figure size 720x600 with 1 Axes>"
      ]
     },
     "metadata": {},
     "output_type": "display_data"
    }
   ],
   "source": [
    "# Calculate correlation coefficient\n",
    "corr = df['vo2max'].corr(df['MH_Score'])\n",
    "\n",
    "# Create the scatter plot with regression line\n",
    "plot = sns.lmplot(x='vo2max', y='MH_Score', data=df, \n",
    "    height=6,     \n",
    "    aspect=1.2,   \n",
    "    line_kws={\"color\": \"red\"},  \n",
    "    scatter_kws={\"alpha\": 0.6})\n",
    "\n",
    "# Get the Axes object from the FacetGrid\n",
    "ax = plot.ax\n",
    "\n",
    "# Annotate the correlation coefficient at the top-right corner\n",
    "ax.annotate(\n",
    "    f'r = {corr:.2f}',\n",
    "    xy=(0.95, 0.95),           # x=95%, y=95% of axis size\n",
    "    xycoords='axes fraction', # relative positioning\n",
    "    ha='right', \n",
    "    va='top',\n",
    "    fontsize=12,\n",
    "    bbox=dict(boxstyle=\"round,pad=0.3\", edgecolor=\"black\", facecolor=\"white\"))\n",
    "\n",
    "# Add titles and labels\n",
    "ax.set_title(\"Correlation between Physical and Mental Health Scores\", fontsize=14)\n",
    "ax.set_xlabel(\"VO₂ Max (Physical Health Score)\")\n",
    "ax.set_ylabel(\"Mental Health Score\")\n",
    "\n",
    "plt.show()"
   ]
  },
  {
   "cell_type": "markdown",
   "id": "22e5ae01",
   "metadata": {},
   "source": [
    "This chart explores the relationship between physical fitness (VO₂ Max) and mental health scores. The correlation coefficient is -0.08, which indicates a very weak negative relationship. In simple terms, there is no meaningful connection between a person’s level of physical fitness and their reported mental health score in this dataset.\n",
    "\n",
    "This means that, based on the current data, improvements in physical health do not appear to be strongly associated with better or worse mental well-being. Other factors beyond physical fitness may have a greater influence on mental health in this group."
   ]
  },
  {
   "cell_type": "code",
   "execution_count": 27,
   "id": "94cf7669",
   "metadata": {},
   "outputs": [
    {
     "name": "stdout",
     "output_type": "stream",
     "text": [
      "Shapiro-Wilk Test for MH: stat=0.941, p=0.000\n",
      "Data does not appear normally distributed (reject H0)\n"
     ]
    }
   ],
   "source": [
    "#check for normality for mental health score (MH)\n",
    "from scipy.stats import shapiro\n",
    "\n",
    "stat, p = shapiro(df['MH_Score'])\n",
    "print(f\"Shapiro-Wilk Test for MH: stat={stat:.3f}, p={p:.3f}\")\n",
    "\n",
    "if p > 0.05:\n",
    "    print(\"Data appears normally distributed (fail to reject H0)\")\n",
    "else:\n",
    "    print(\"Data does not appear normally distributed (reject H0)\")"
   ]
  },
  {
   "cell_type": "code",
   "execution_count": 28,
   "id": "e2871544",
   "metadata": {},
   "outputs": [
    {
     "name": "stdout",
     "output_type": "stream",
     "text": [
      "Shapiro-Wilk Test for physical health score: stat=0.942, p=0.000\n",
      "Data does not appear normally distributed (reject H0)\n"
     ]
    }
   ],
   "source": [
    "#check for normality for physical health score (vo2max)\n",
    "from scipy.stats import shapiro\n",
    "\n",
    "stat, p = shapiro(df['vo2max'])\n",
    "print(f\"Shapiro-Wilk Test for physical health score: stat={stat:.3f}, p={p:.3f}\")\n",
    "\n",
    "if p > 0.05:\n",
    "    print(\"Data appears normally distributed (fail to reject H0)\")\n",
    "else:\n",
    "    print(\"Data does not appear normally distributed (reject H0)\")"
   ]
  },
  {
   "cell_type": "markdown",
   "id": "3fa72f11",
   "metadata": {},
   "source": [
    "Both variables are not normaly distributed, and both doesn't have outliers therefore pearson's correlation can be used to check for the relationship between the two variables"
   ]
  },
  {
   "cell_type": "code",
   "execution_count": 29,
   "id": "55b27967",
   "metadata": {},
   "outputs": [
    {
     "name": "stdout",
     "output_type": "stream",
     "text": [
      "Spearmans rank correlation: r = -0.081, p-value = 0.421\n"
     ]
    }
   ],
   "source": [
    "from scipy.stats import spearmanr\n",
    "\n",
    "# Calculate Spearmans rank correlation\n",
    "corr, p_value =spearmanr(df['MH_Score'], df['vo2max'])\n",
    "\n",
    "# Print results\n",
    "print(f\"Spearmans rank correlation: r = {corr:.3f}, p-value = {p_value:.3f}\")"
   ]
  },
  {
   "cell_type": "markdown",
   "id": "a6e37854",
   "metadata": {},
   "source": [
    "r = -0.089 means there's a weak negative correlation between mental health score and physical health score p = 0.378 means the correlation is not statistically significant.\n",
    "\n",
    "Conclusion: There's a non significant weak negative correlation between mental health score and physical health score"
   ]
  },
  {
   "cell_type": "markdown",
   "id": "b15a6bd7",
   "metadata": {},
   "source": [
    "#### Research Question 4. What is the relationship between Body Mass Index (BMI) and cardiorespiratory fitness (VO₂ Max)?"
   ]
  },
  {
   "cell_type": "code",
   "execution_count": 30,
   "id": "f030f84e",
   "metadata": {},
   "outputs": [
    {
     "name": "stderr",
     "output_type": "stream",
     "text": [
      "C:\\ProgramData\\anaconda3\\Lib\\site-packages\\seaborn\\axisgrid.py:118: UserWarning: The figure layout has changed to tight\n",
      "  self._figure.tight_layout(*args, **kwargs)\n"
     ]
    },
    {
     "data": {
      "image/png": "[encoded data removed]",
      "text/plain": [
       "<Figure size 720x600 with 1 Axes>"
      ]
     },
     "metadata": {},
     "output_type": "display_data"
    }
   ],
   "source": [
    "# Calculate correlation coefficient\n",
    "corr = df['vo2max'].corr(df['BMI'])\n",
    "\n",
    "# Create scatter plot with regression line\n",
    "plot = sns.lmplot(\n",
    "    x='vo2max', \n",
    "    y='BMI', \n",
    "    data=df, \n",
    "    height=6,     \n",
    "    aspect=1.2,   \n",
    "    line_kws={\"color\": \"red\"},  \n",
    "    scatter_kws={\"alpha\": 0.6})\n",
    "\n",
    "# Get Axes from the lmplot FacetGrid\n",
    "ax = plot.ax\n",
    "\n",
    "# Annotate correlation coefficient\n",
    "ax.annotate(\n",
    "    f'r = {corr:.2f}',\n",
    "    xy=(0.95, 0.95),\n",
    "    xycoords='axes fraction',\n",
    "    ha='right',\n",
    "    va='top',\n",
    "    fontsize=12,\n",
    "    bbox=dict(boxstyle=\"round,pad=0.3\", edgecolor=\"black\", facecolor=\"white\"))\n",
    "\n",
    "# Add plot labels\n",
    "ax.set_title(\"Correlation between Physical Fitness and BMI\", fontsize=14)\n",
    "ax.set_xlabel(\"VO₂ Max (Physical Health Score)\")\n",
    "ax.set_ylabel(\"Body Mass Index (BMI)\")\n",
    "\n",
    "plt.show()"
   ]
  },
  {
   "cell_type": "markdown",
   "id": "9cbfc4cf",
   "metadata": {},
   "source": [
    "This chart explores the relationship between physical fitness (VO₂ Max) and body weight (BMI). The correlation result is r = 0.02, which indicates an almost zero relationship between the two variables in this dataset.\n",
    "\n",
    "In simple terms, individuals with higher physical fitness levels do not consistently have higher or lower BMI values. This suggests that within this group, BMI and fitness score are not strongly linked, and other factors such as muscle mass, diet, or body composition may be more relevant to BMI than cardiovascular fitness alone.\n",
    "\n",
    "This finding reminds us that BMI doesn't always tell the full story about a person's health or fitness level.\n",
    "\n",
    "\n",
    "\n"
   ]
  },
  {
   "cell_type": "markdown",
   "id": "00315a0a",
   "metadata": {},
   "source": [
    "####  Research Question 5. How do physical health scores (VO₂ max) vary across different BMI classifications (underweight, normal, overweight, obese)?\n",
    "\n",
    "Analyzing how BMI Groups affects VO₂ max.\n",
    "\n",
    "Hypotheses:\n",
    "\n",
    "•\tH₀: There is no significant difference between BMI Group and VO₂ max.\n",
    "\n",
    "•\tH₁: There is a significant difference between BMI Group and VO₂ max."
   ]
  },
  {
   "cell_type": "code",
   "execution_count": 31,
   "id": "81d7a335",
   "metadata": {},
   "outputs": [
    {
     "name": "stdout",
     "output_type": "stream",
     "text": [
      "Underweight - Shapiro-Wilk Test: stat=0.943, p=0.303\n",
      "  Data appear normally distributed (fail to reject H0)\n",
      "\n",
      "Normal - Shapiro-Wilk Test: stat=0.895, p=0.014\n",
      "  Data does not appear normally distributed (reject H0)\n",
      "\n",
      "Obese - Shapiro-Wilk Test: stat=0.948, p=0.147\n",
      "  Data appear normally distributed (fail to reject H0)\n",
      "\n",
      "Overweight - Shapiro-Wilk Test: stat=0.919, p=0.043\n",
      "  Data does not appear normally distributed (reject H0)\n",
      "\n"
     ]
    }
   ],
   "source": [
    "#check for normality\n",
    "from scipy.stats import shapiro\n",
    "\n",
    "for group in df['BMI_Group'].unique():\n",
    "    subset = df[df['BMI_Group'] == group]['vo2max']\n",
    "    \n",
    "    stat, p = shapiro(subset)\n",
    "    print(f\"{group} - Shapiro-Wilk Test: stat={stat:.3f}, p={p:.3f}\")\n",
    "    \n",
    "    if p > 0.05:\n",
    "        print(\"  Data appear normally distributed (fail to reject H0)\\n\")\n",
    "    else:\n",
    "        print(\"  Data does not appear normally distributed (reject H0)\\n\")"
   ]
  },
  {
   "cell_type": "code",
   "execution_count": 32,
   "id": "dfd9eff3",
   "metadata": {},
   "outputs": [
    {
     "name": "stdout",
     "output_type": "stream",
     "text": [
      "H-statistic: 3.371, p-value: 0.3379\n",
      "There is no significant difference in VO2Max across BMI groups.\n"
     ]
    }
   ],
   "source": [
    "from scipy.stats import kruskal\n",
    "\n",
    "# Split vo2max by BMI group\n",
    "underweight = df[df['BMI_Group'] == 'Underweight']['vo2max']\n",
    "normal = df[df['BMI_Group'] == 'Normal']['vo2max']\n",
    "overweight = df[df['BMI_Group'] == 'Overweight']['vo2max']\n",
    "obese = df[df['BMI_Group'] == 'Obese']['vo2max']\n",
    "\n",
    "# Run Kruskal-Wallis test\n",
    "h_stat, p_value = kruskal(underweight, normal, overweight, obese)\n",
    "\n",
    "# Print the results\n",
    "print(f\"H-statistic: {h_stat:.3f}, p-value: {p_value:.4f}\")\n",
    "\n",
    "# Interpret the result\n",
    "if p_value < 0.05:\n",
    "    print(\"There is a significant difference in VO2Max across BMI groups.\")\n",
    "else:\n",
    "    print(\"There is no significant difference in VO2Max across BMI groups.\")"
   ]
  },
  {
   "cell_type": "markdown",
   "id": "f4e5d2a4",
   "metadata": {},
   "source": [
    "####  Research Question 7. Is there an association between gender and the likelihood of engaging in regular physical exercise?\n",
    "\n",
    "H0: There's no significant association between Regular exercise and Gneder\n",
    "\n",
    "H1: There's significant association between Regular exercise and Gneder"
   ]
  },
  {
   "cell_type": "code",
   "execution_count": 33,
   "id": "08422ffa",
   "metadata": {},
   "outputs": [
    {
     "name": "stdout",
     "output_type": "stream",
     "text": [
      "Contingency Table:\n",
      "Gender                      Female  Male\n",
      "ExerciseReg                             \n",
      "Doesn't Exercise Regularly      30    22\n",
      "Exercise Regularly              30    18\n",
      "\n",
      "Chi-square test statistic = 0.082\n",
      "p-value = 0.775\n",
      " There is no significant association between Regular Exercise and Gender (fail to reject H0).\n"
     ]
    }
   ],
   "source": [
    "from scipy.stats import chi2_contingency\n",
    "\n",
    "# Create the contingency table for Regular Exercise vs Gender\n",
    "contingency_table = pd.crosstab(df['ExerciseReg'], df['Gender'])\n",
    "print(\"Contingency Table:\")\n",
    "print(contingency_table)\n",
    "\n",
    "# Perform the Chi-square test\n",
    "chi2_stat, p_value, dof, expected = chi2_contingency(contingency_table)\n",
    "\n",
    "# Print the results\n",
    "print(f\"\\nChi-square test statistic = {chi2_stat:.3f}\")\n",
    "print(f\"p-value = {p_value:.3f}\")\n",
    "\n",
    "# Interpretation\n",
    "if p_value < 0.05:\n",
    "    print(\" There is a significant association between Regular Exercise and Gender (reject H0).\")\n",
    "else:\n",
    "    print(\" There is no significant association between Regular Exercise and Gender (fail to reject H0).\")"
   ]
  },
  {
   "cell_type": "markdown",
   "id": "d61c6929",
   "metadata": {},
   "source": [
    "### Interpretation of Results\n",
    "\n",
    "This analysis explored how physical activity, body composition (such as height and weight), and basic demographics (like gender) relate to cardiorespiratory fitness, using VO₂ Max as the primary indicator. We also investigated potential patterns in mental and physical health scores across gender, exercise habits, and BMI classifications.\n",
    "\n",
    "##### Gender, Exercise, and Health Overview\n",
    "Among the 100 individuals analyzed, 60 were female and 40 were male. Exercise participation was nearly even: 48% exercised regularly while 52% did not. On average, males were slightly taller and heavier than females. Interestingly, females recorded marginally higher mental health and VO₂ Max (physical health) scores than males. Those who exercised regularly also had better physical health scores (49.3) than those who didn’t (47.4), confirming a general benefit of physical activity.\n",
    "\n",
    "Although regular exercisers had slightly lower mental health scores, the difference was small and could be due to stress or unrelated life factors. Overall, the data suggests that physical activity supports cardiovascular health across both genders.\n",
    "\n",
    "##### Mental and Physical Health Relationship\n",
    "We examined the connection between mental and physical health using correlation analysis. The result showed a weak negative correlation (r = -0.089), and the p-value (0.378) indicated that the relationship was not statistically significant. In simple terms, people who score high on physical health do not necessarily have higher mental health scores. The two aspects seem to be independent in this group.\n",
    "\n",
    "##### BMI and Fitness Relationship\n",
    "Another common belief is that people with a healthier body weight (BMI) also have better fitness levels. However, the analysis found an almost zero correlation between BMI and VO₂ Max (r = 0.02). This means that BMI alone cannot predict cardiorespiratory fitness — two people with the same BMI may have very different fitness levels.\n",
    "\n",
    "Using group comparisons (Kruskal-Wallis test), we also found no statistically significant difference in VO₂ Max across different BMI groups (underweight, normal, overweight, obese). This reinforces that BMI is a limited indicator for understanding true physical fitness.\n",
    "\n",
    "##### Gender and Exercise Habits\n",
    "To determine if exercise habits vary by gender, we used a Chi-square test. The result was not significant (p = 0.775), showing that both males and females were equally likely to exercise or not. Gender does not play a role in predicting who exercises regularly in this sample.\n",
    "\n",
    "### Recommendations\n",
    "##### Shift focus from BMI to functional fitness (VO₂ Max):\n",
    "BMI is easy to calculate but limited in what it reveals about health. Encouraging VO₂ Max assessments can offer more useful insights into an individual’s true physical condition.\n",
    "\n",
    "##### Promote regular exercise across all populations:\n",
    "Since both males and females benefit from exercise and are equally likely to participate, design inclusive fitness campaigns that remove stigma and stereotypes. Workplace and community health programs should prioritize accessibility and personalization.\n",
    "\n",
    "##### Separate mental and physical health strategies:\n",
    "Do not assume physical health improvements will solve mental health challenges. Health interventions must include dedicated mental health support, such as counseling, stress management workshops, and social support systems.\n",
    "\n",
    "##### Use individualized health metrics over broad assumptions:\n",
    "Avoid generalizing based on BMI, gender, or body type. Adopt a personalized health model where each person’s lifestyle, health scores, and behavior are used to guide decisions, particularly in clinical or occupational health settings.\n",
    "\n",
    "##### Educate the public and health workers about fitness misconceptions:\n",
    "Many still assume that being slim means being fit. Awareness campaigns should focus on aerobic capacity, stamina, and heart health rather than appearance alone.\n",
    "\n",
    "### Final Conclusion\n",
    "This analysis underscores that cardiorespiratory fitness and overall well-being cannot be accurately judged by appearance or weight alone. VO₂ Max is a much more meaningful indicator of physical health, yet it is underused in community health assessment. Furthermore, mental and physical health do not always align, and each needs targeted strategies for improvement.\n",
    "\n",
    "Health promotion policies and clinical interventions should focus on:\n",
    "\n",
    "* Encouraging physical activity for everyone,\n",
    "\n",
    "* De-emphasizing BMI as a primary measure of health, and\n",
    "\n",
    "* Treating mental and physical health separately but equally.\n",
    "\n",
    "* By applying these findings, healthcare providers, wellness coordinators, and public health leaders can design more equitable, evidence-based, and effective programs that address real health needs rather than outdated assumptions."
   ]
  }
 ],
 "metadata": {
  "kernelspec": {
   "display_name": "Python 3 (ipykernel)",
   "language": "python",
   "name": "python3"
  },
  "language_info": {
   "codemirror_mode": {
    "name": "ipython",
    "version": 3
   },
   "file_extension": ".py",
   "mimetype": "text/x-python",
   "name": "python",
   "nbconvert_exporter": "python",
   "pygments_lexer": "ipython3",
   "version": "3.11.5"
  }
 },
 "nbformat": 4,
 "nbformat_minor": 5
}
